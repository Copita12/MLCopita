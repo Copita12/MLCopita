{
  "nbformat": 4,
  "nbformat_minor": 0,
  "metadata": {
    "colab": {
      "name": "TP4 - Aprendizaje de maquina",
      "provenance": [],
      "collapsed_sections": [
        "PKd27banNejq"
      ],
      "authorship_tag": "ABX9TyOGnUGtZ62LqQeONwhJOOxY",
      "include_colab_link": true
    },
    "kernelspec": {
      "display_name": "Python 3",
      "name": "python3"
    }
  },
  "cells": [
    {
      "cell_type": "markdown",
      "metadata": {
        "id": "view-in-github",
        "colab_type": "text"
      },
      "source": [
        "<a href=\"https://colab.research.google.com/github/Copita12/MLCopita/blob/master/TP4_Aprendizaje_de_maquina.ipynb\" target=\"_parent\"><img src=\"https://colab.research.google.com/assets/colab-badge.svg\" alt=\"Open In Colab\"/></a>"
      ]
    },
    {
      "cell_type": "markdown",
      "metadata": {
        "id": "PKd27banNejq"
      },
      "source": [
        "# EJERCICIO 4: Winsconsin Breast Cancer dataset."
      ]
    },
    {
      "cell_type": "markdown",
      "metadata": {
        "id": "qYYvEoyUH0Rs"
      },
      "source": [
        "Utilizare este dataset para entrenar varios modelos y probar su eficiencia"
      ]
    },
    {
      "cell_type": "code",
      "metadata": {
        "id": "w7xGZPhfH1qL",
        "outputId": "9b168817-69a3-4737-ddb6-e58b7267c03f",
        "colab": {
          "base_uri": "https://localhost:8080/",
          "height": 441
        }
      },
      "source": [
        "import pandas as pd\n",
        "cancer_tissues = pd.read_csv(\"https://raw.githubusercontent.com/emmanueliarussi/DataScienceCapstone/master/3_MidtermProjects/ProjectBCD/data/data.csv\")\n",
        "cancer_tissues"
      ],
      "execution_count": 1,
      "outputs": [
        {
          "output_type": "execute_result",
          "data": {
            "text/html": [
              "<div>\n",
              "<style scoped>\n",
              "    .dataframe tbody tr th:only-of-type {\n",
              "        vertical-align: middle;\n",
              "    }\n",
              "\n",
              "    .dataframe tbody tr th {\n",
              "        vertical-align: top;\n",
              "    }\n",
              "\n",
              "    .dataframe thead th {\n",
              "        text-align: right;\n",
              "    }\n",
              "</style>\n",
              "<table border=\"1\" class=\"dataframe\">\n",
              "  <thead>\n",
              "    <tr style=\"text-align: right;\">\n",
              "      <th></th>\n",
              "      <th>id</th>\n",
              "      <th>diagnosis</th>\n",
              "      <th>radius_mean</th>\n",
              "      <th>texture_mean</th>\n",
              "      <th>perimeter_mean</th>\n",
              "      <th>area_mean</th>\n",
              "      <th>smoothness_mean</th>\n",
              "      <th>compactness_mean</th>\n",
              "      <th>concavity_mean</th>\n",
              "      <th>concave points_mean</th>\n",
              "      <th>symmetry_mean</th>\n",
              "      <th>fractal_dimension_mean</th>\n",
              "      <th>radius_se</th>\n",
              "      <th>texture_se</th>\n",
              "      <th>perimeter_se</th>\n",
              "      <th>area_se</th>\n",
              "      <th>smoothness_se</th>\n",
              "      <th>compactness_se</th>\n",
              "      <th>concavity_se</th>\n",
              "      <th>concave points_se</th>\n",
              "      <th>symmetry_se</th>\n",
              "      <th>fractal_dimension_se</th>\n",
              "      <th>radius_worst</th>\n",
              "      <th>texture_worst</th>\n",
              "      <th>perimeter_worst</th>\n",
              "      <th>area_worst</th>\n",
              "      <th>smoothness_worst</th>\n",
              "      <th>compactness_worst</th>\n",
              "      <th>concavity_worst</th>\n",
              "      <th>concave points_worst</th>\n",
              "      <th>symmetry_worst</th>\n",
              "      <th>fractal_dimension_worst</th>\n",
              "      <th>Unnamed: 32</th>\n",
              "    </tr>\n",
              "  </thead>\n",
              "  <tbody>\n",
              "    <tr>\n",
              "      <th>0</th>\n",
              "      <td>842302</td>\n",
              "      <td>M</td>\n",
              "      <td>17.99</td>\n",
              "      <td>10.38</td>\n",
              "      <td>122.80</td>\n",
              "      <td>1001.0</td>\n",
              "      <td>0.11840</td>\n",
              "      <td>0.27760</td>\n",
              "      <td>0.30010</td>\n",
              "      <td>0.14710</td>\n",
              "      <td>0.2419</td>\n",
              "      <td>0.07871</td>\n",
              "      <td>1.0950</td>\n",
              "      <td>0.9053</td>\n",
              "      <td>8.589</td>\n",
              "      <td>153.40</td>\n",
              "      <td>0.006399</td>\n",
              "      <td>0.04904</td>\n",
              "      <td>0.05373</td>\n",
              "      <td>0.01587</td>\n",
              "      <td>0.03003</td>\n",
              "      <td>0.006193</td>\n",
              "      <td>25.380</td>\n",
              "      <td>17.33</td>\n",
              "      <td>184.60</td>\n",
              "      <td>2019.0</td>\n",
              "      <td>0.16220</td>\n",
              "      <td>0.66560</td>\n",
              "      <td>0.7119</td>\n",
              "      <td>0.2654</td>\n",
              "      <td>0.4601</td>\n",
              "      <td>0.11890</td>\n",
              "      <td>NaN</td>\n",
              "    </tr>\n",
              "    <tr>\n",
              "      <th>1</th>\n",
              "      <td>842517</td>\n",
              "      <td>M</td>\n",
              "      <td>20.57</td>\n",
              "      <td>17.77</td>\n",
              "      <td>132.90</td>\n",
              "      <td>1326.0</td>\n",
              "      <td>0.08474</td>\n",
              "      <td>0.07864</td>\n",
              "      <td>0.08690</td>\n",
              "      <td>0.07017</td>\n",
              "      <td>0.1812</td>\n",
              "      <td>0.05667</td>\n",
              "      <td>0.5435</td>\n",
              "      <td>0.7339</td>\n",
              "      <td>3.398</td>\n",
              "      <td>74.08</td>\n",
              "      <td>0.005225</td>\n",
              "      <td>0.01308</td>\n",
              "      <td>0.01860</td>\n",
              "      <td>0.01340</td>\n",
              "      <td>0.01389</td>\n",
              "      <td>0.003532</td>\n",
              "      <td>24.990</td>\n",
              "      <td>23.41</td>\n",
              "      <td>158.80</td>\n",
              "      <td>1956.0</td>\n",
              "      <td>0.12380</td>\n",
              "      <td>0.18660</td>\n",
              "      <td>0.2416</td>\n",
              "      <td>0.1860</td>\n",
              "      <td>0.2750</td>\n",
              "      <td>0.08902</td>\n",
              "      <td>NaN</td>\n",
              "    </tr>\n",
              "    <tr>\n",
              "      <th>2</th>\n",
              "      <td>84300903</td>\n",
              "      <td>M</td>\n",
              "      <td>19.69</td>\n",
              "      <td>21.25</td>\n",
              "      <td>130.00</td>\n",
              "      <td>1203.0</td>\n",
              "      <td>0.10960</td>\n",
              "      <td>0.15990</td>\n",
              "      <td>0.19740</td>\n",
              "      <td>0.12790</td>\n",
              "      <td>0.2069</td>\n",
              "      <td>0.05999</td>\n",
              "      <td>0.7456</td>\n",
              "      <td>0.7869</td>\n",
              "      <td>4.585</td>\n",
              "      <td>94.03</td>\n",
              "      <td>0.006150</td>\n",
              "      <td>0.04006</td>\n",
              "      <td>0.03832</td>\n",
              "      <td>0.02058</td>\n",
              "      <td>0.02250</td>\n",
              "      <td>0.004571</td>\n",
              "      <td>23.570</td>\n",
              "      <td>25.53</td>\n",
              "      <td>152.50</td>\n",
              "      <td>1709.0</td>\n",
              "      <td>0.14440</td>\n",
              "      <td>0.42450</td>\n",
              "      <td>0.4504</td>\n",
              "      <td>0.2430</td>\n",
              "      <td>0.3613</td>\n",
              "      <td>0.08758</td>\n",
              "      <td>NaN</td>\n",
              "    </tr>\n",
              "    <tr>\n",
              "      <th>3</th>\n",
              "      <td>84348301</td>\n",
              "      <td>M</td>\n",
              "      <td>11.42</td>\n",
              "      <td>20.38</td>\n",
              "      <td>77.58</td>\n",
              "      <td>386.1</td>\n",
              "      <td>0.14250</td>\n",
              "      <td>0.28390</td>\n",
              "      <td>0.24140</td>\n",
              "      <td>0.10520</td>\n",
              "      <td>0.2597</td>\n",
              "      <td>0.09744</td>\n",
              "      <td>0.4956</td>\n",
              "      <td>1.1560</td>\n",
              "      <td>3.445</td>\n",
              "      <td>27.23</td>\n",
              "      <td>0.009110</td>\n",
              "      <td>0.07458</td>\n",
              "      <td>0.05661</td>\n",
              "      <td>0.01867</td>\n",
              "      <td>0.05963</td>\n",
              "      <td>0.009208</td>\n",
              "      <td>14.910</td>\n",
              "      <td>26.50</td>\n",
              "      <td>98.87</td>\n",
              "      <td>567.7</td>\n",
              "      <td>0.20980</td>\n",
              "      <td>0.86630</td>\n",
              "      <td>0.6869</td>\n",
              "      <td>0.2575</td>\n",
              "      <td>0.6638</td>\n",
              "      <td>0.17300</td>\n",
              "      <td>NaN</td>\n",
              "    </tr>\n",
              "    <tr>\n",
              "      <th>4</th>\n",
              "      <td>84358402</td>\n",
              "      <td>M</td>\n",
              "      <td>20.29</td>\n",
              "      <td>14.34</td>\n",
              "      <td>135.10</td>\n",
              "      <td>1297.0</td>\n",
              "      <td>0.10030</td>\n",
              "      <td>0.13280</td>\n",
              "      <td>0.19800</td>\n",
              "      <td>0.10430</td>\n",
              "      <td>0.1809</td>\n",
              "      <td>0.05883</td>\n",
              "      <td>0.7572</td>\n",
              "      <td>0.7813</td>\n",
              "      <td>5.438</td>\n",
              "      <td>94.44</td>\n",
              "      <td>0.011490</td>\n",
              "      <td>0.02461</td>\n",
              "      <td>0.05688</td>\n",
              "      <td>0.01885</td>\n",
              "      <td>0.01756</td>\n",
              "      <td>0.005115</td>\n",
              "      <td>22.540</td>\n",
              "      <td>16.67</td>\n",
              "      <td>152.20</td>\n",
              "      <td>1575.0</td>\n",
              "      <td>0.13740</td>\n",
              "      <td>0.20500</td>\n",
              "      <td>0.4000</td>\n",
              "      <td>0.1625</td>\n",
              "      <td>0.2364</td>\n",
              "      <td>0.07678</td>\n",
              "      <td>NaN</td>\n",
              "    </tr>\n",
              "    <tr>\n",
              "      <th>...</th>\n",
              "      <td>...</td>\n",
              "      <td>...</td>\n",
              "      <td>...</td>\n",
              "      <td>...</td>\n",
              "      <td>...</td>\n",
              "      <td>...</td>\n",
              "      <td>...</td>\n",
              "      <td>...</td>\n",
              "      <td>...</td>\n",
              "      <td>...</td>\n",
              "      <td>...</td>\n",
              "      <td>...</td>\n",
              "      <td>...</td>\n",
              "      <td>...</td>\n",
              "      <td>...</td>\n",
              "      <td>...</td>\n",
              "      <td>...</td>\n",
              "      <td>...</td>\n",
              "      <td>...</td>\n",
              "      <td>...</td>\n",
              "      <td>...</td>\n",
              "      <td>...</td>\n",
              "      <td>...</td>\n",
              "      <td>...</td>\n",
              "      <td>...</td>\n",
              "      <td>...</td>\n",
              "      <td>...</td>\n",
              "      <td>...</td>\n",
              "      <td>...</td>\n",
              "      <td>...</td>\n",
              "      <td>...</td>\n",
              "      <td>...</td>\n",
              "      <td>...</td>\n",
              "    </tr>\n",
              "    <tr>\n",
              "      <th>564</th>\n",
              "      <td>926424</td>\n",
              "      <td>M</td>\n",
              "      <td>21.56</td>\n",
              "      <td>22.39</td>\n",
              "      <td>142.00</td>\n",
              "      <td>1479.0</td>\n",
              "      <td>0.11100</td>\n",
              "      <td>0.11590</td>\n",
              "      <td>0.24390</td>\n",
              "      <td>0.13890</td>\n",
              "      <td>0.1726</td>\n",
              "      <td>0.05623</td>\n",
              "      <td>1.1760</td>\n",
              "      <td>1.2560</td>\n",
              "      <td>7.673</td>\n",
              "      <td>158.70</td>\n",
              "      <td>0.010300</td>\n",
              "      <td>0.02891</td>\n",
              "      <td>0.05198</td>\n",
              "      <td>0.02454</td>\n",
              "      <td>0.01114</td>\n",
              "      <td>0.004239</td>\n",
              "      <td>25.450</td>\n",
              "      <td>26.40</td>\n",
              "      <td>166.10</td>\n",
              "      <td>2027.0</td>\n",
              "      <td>0.14100</td>\n",
              "      <td>0.21130</td>\n",
              "      <td>0.4107</td>\n",
              "      <td>0.2216</td>\n",
              "      <td>0.2060</td>\n",
              "      <td>0.07115</td>\n",
              "      <td>NaN</td>\n",
              "    </tr>\n",
              "    <tr>\n",
              "      <th>565</th>\n",
              "      <td>926682</td>\n",
              "      <td>M</td>\n",
              "      <td>20.13</td>\n",
              "      <td>28.25</td>\n",
              "      <td>131.20</td>\n",
              "      <td>1261.0</td>\n",
              "      <td>0.09780</td>\n",
              "      <td>0.10340</td>\n",
              "      <td>0.14400</td>\n",
              "      <td>0.09791</td>\n",
              "      <td>0.1752</td>\n",
              "      <td>0.05533</td>\n",
              "      <td>0.7655</td>\n",
              "      <td>2.4630</td>\n",
              "      <td>5.203</td>\n",
              "      <td>99.04</td>\n",
              "      <td>0.005769</td>\n",
              "      <td>0.02423</td>\n",
              "      <td>0.03950</td>\n",
              "      <td>0.01678</td>\n",
              "      <td>0.01898</td>\n",
              "      <td>0.002498</td>\n",
              "      <td>23.690</td>\n",
              "      <td>38.25</td>\n",
              "      <td>155.00</td>\n",
              "      <td>1731.0</td>\n",
              "      <td>0.11660</td>\n",
              "      <td>0.19220</td>\n",
              "      <td>0.3215</td>\n",
              "      <td>0.1628</td>\n",
              "      <td>0.2572</td>\n",
              "      <td>0.06637</td>\n",
              "      <td>NaN</td>\n",
              "    </tr>\n",
              "    <tr>\n",
              "      <th>566</th>\n",
              "      <td>926954</td>\n",
              "      <td>M</td>\n",
              "      <td>16.60</td>\n",
              "      <td>28.08</td>\n",
              "      <td>108.30</td>\n",
              "      <td>858.1</td>\n",
              "      <td>0.08455</td>\n",
              "      <td>0.10230</td>\n",
              "      <td>0.09251</td>\n",
              "      <td>0.05302</td>\n",
              "      <td>0.1590</td>\n",
              "      <td>0.05648</td>\n",
              "      <td>0.4564</td>\n",
              "      <td>1.0750</td>\n",
              "      <td>3.425</td>\n",
              "      <td>48.55</td>\n",
              "      <td>0.005903</td>\n",
              "      <td>0.03731</td>\n",
              "      <td>0.04730</td>\n",
              "      <td>0.01557</td>\n",
              "      <td>0.01318</td>\n",
              "      <td>0.003892</td>\n",
              "      <td>18.980</td>\n",
              "      <td>34.12</td>\n",
              "      <td>126.70</td>\n",
              "      <td>1124.0</td>\n",
              "      <td>0.11390</td>\n",
              "      <td>0.30940</td>\n",
              "      <td>0.3403</td>\n",
              "      <td>0.1418</td>\n",
              "      <td>0.2218</td>\n",
              "      <td>0.07820</td>\n",
              "      <td>NaN</td>\n",
              "    </tr>\n",
              "    <tr>\n",
              "      <th>567</th>\n",
              "      <td>927241</td>\n",
              "      <td>M</td>\n",
              "      <td>20.60</td>\n",
              "      <td>29.33</td>\n",
              "      <td>140.10</td>\n",
              "      <td>1265.0</td>\n",
              "      <td>0.11780</td>\n",
              "      <td>0.27700</td>\n",
              "      <td>0.35140</td>\n",
              "      <td>0.15200</td>\n",
              "      <td>0.2397</td>\n",
              "      <td>0.07016</td>\n",
              "      <td>0.7260</td>\n",
              "      <td>1.5950</td>\n",
              "      <td>5.772</td>\n",
              "      <td>86.22</td>\n",
              "      <td>0.006522</td>\n",
              "      <td>0.06158</td>\n",
              "      <td>0.07117</td>\n",
              "      <td>0.01664</td>\n",
              "      <td>0.02324</td>\n",
              "      <td>0.006185</td>\n",
              "      <td>25.740</td>\n",
              "      <td>39.42</td>\n",
              "      <td>184.60</td>\n",
              "      <td>1821.0</td>\n",
              "      <td>0.16500</td>\n",
              "      <td>0.86810</td>\n",
              "      <td>0.9387</td>\n",
              "      <td>0.2650</td>\n",
              "      <td>0.4087</td>\n",
              "      <td>0.12400</td>\n",
              "      <td>NaN</td>\n",
              "    </tr>\n",
              "    <tr>\n",
              "      <th>568</th>\n",
              "      <td>92751</td>\n",
              "      <td>B</td>\n",
              "      <td>7.76</td>\n",
              "      <td>24.54</td>\n",
              "      <td>47.92</td>\n",
              "      <td>181.0</td>\n",
              "      <td>0.05263</td>\n",
              "      <td>0.04362</td>\n",
              "      <td>0.00000</td>\n",
              "      <td>0.00000</td>\n",
              "      <td>0.1587</td>\n",
              "      <td>0.05884</td>\n",
              "      <td>0.3857</td>\n",
              "      <td>1.4280</td>\n",
              "      <td>2.548</td>\n",
              "      <td>19.15</td>\n",
              "      <td>0.007189</td>\n",
              "      <td>0.00466</td>\n",
              "      <td>0.00000</td>\n",
              "      <td>0.00000</td>\n",
              "      <td>0.02676</td>\n",
              "      <td>0.002783</td>\n",
              "      <td>9.456</td>\n",
              "      <td>30.37</td>\n",
              "      <td>59.16</td>\n",
              "      <td>268.6</td>\n",
              "      <td>0.08996</td>\n",
              "      <td>0.06444</td>\n",
              "      <td>0.0000</td>\n",
              "      <td>0.0000</td>\n",
              "      <td>0.2871</td>\n",
              "      <td>0.07039</td>\n",
              "      <td>NaN</td>\n",
              "    </tr>\n",
              "  </tbody>\n",
              "</table>\n",
              "<p>569 rows × 33 columns</p>\n",
              "</div>"
            ],
            "text/plain": [
              "           id diagnosis  ...  fractal_dimension_worst  Unnamed: 32\n",
              "0      842302         M  ...                  0.11890          NaN\n",
              "1      842517         M  ...                  0.08902          NaN\n",
              "2    84300903         M  ...                  0.08758          NaN\n",
              "3    84348301         M  ...                  0.17300          NaN\n",
              "4    84358402         M  ...                  0.07678          NaN\n",
              "..        ...       ...  ...                      ...          ...\n",
              "564    926424         M  ...                  0.07115          NaN\n",
              "565    926682         M  ...                  0.06637          NaN\n",
              "566    926954         M  ...                  0.07820          NaN\n",
              "567    927241         M  ...                  0.12400          NaN\n",
              "568     92751         B  ...                  0.07039          NaN\n",
              "\n",
              "[569 rows x 33 columns]"
            ]
          },
          "metadata": {
            "tags": []
          },
          "execution_count": 1
        }
      ]
    },
    {
      "cell_type": "markdown",
      "metadata": {
        "id": "Mn7xzcrCHvVV"
      },
      "source": [
        "Separamos los atributos utiles"
      ]
    },
    {
      "cell_type": "code",
      "metadata": {
        "id": "MrF0LMc6UotJ"
      },
      "source": [
        "att_mean = ['radius_mean','texture_mean','perimeter_mean','area_mean','smoothness_mean','compactness_mean','concavity_mean','concave points_mean','symmetry_mean','fractal_dimension_mean']\n",
        "att_se = ['radius_se','texture_se','perimeter_se','area_se','smoothness_se','compactness_se','concavity_se','concave points_se','symmetry_se','fractal_dimension_se']\n",
        "att_worst = ['radius_worst','texture_worst','perimeter_worst','area_worst','smoothness_worst','compactness_worst','concavity_worst','concave points_worst','symmetry_worst','fractal_dimension_worst']\n",
        "att = att_mean + att_se + att_worst"
      ],
      "execution_count": 2,
      "outputs": []
    },
    {
      "cell_type": "markdown",
      "metadata": {
        "id": "1KWy8UffUtrk"
      },
      "source": [
        "### Support vector machine:"
      ]
    },
    {
      "cell_type": "code",
      "metadata": {
        "id": "FUSED9Q7JVea",
        "outputId": "c9d82fc6-1bed-488a-9ed5-cf4fdeaa0335",
        "colab": {
          "base_uri": "https://localhost:8080/"
        }
      },
      "source": [
        "from sklearn import svm\n",
        "from sklearn.metrics import classification_report\n",
        "from sklearn.metrics import confusion_matrix\n",
        "from sklearn import metrics\n",
        "from sklearn.model_selection import train_test_split\n",
        "\n",
        "class_cancer = svm.SVC()\n",
        "X_train, X_test, y_train, y_test = train_test_split(cancer_tissues[att], [1 if x == 'B' else 0 for x in cancer_tissues['diagnosis']], test_size=0.8, random_state=0)\n",
        "class_cancer.fit(X_train,y_train)"
      ],
      "execution_count": 3,
      "outputs": [
        {
          "output_type": "execute_result",
          "data": {
            "text/plain": [
              "SVC(C=1.0, break_ties=False, cache_size=200, class_weight=None, coef0=0.0,\n",
              "    decision_function_shape='ovr', degree=3, gamma='scale', kernel='rbf',\n",
              "    max_iter=-1, probability=False, random_state=None, shrinking=True,\n",
              "    tol=0.001, verbose=False)"
            ]
          },
          "metadata": {
            "tags": []
          },
          "execution_count": 3
        }
      ]
    },
    {
      "cell_type": "code",
      "metadata": {
        "id": "uZty8IKvTq99",
        "outputId": "c6e7e492-bb29-4955-d702-3024489ac2f8",
        "colab": {
          "base_uri": "https://localhost:8080/",
          "height": 342
        }
      },
      "source": [
        "y_pred = class_cancer.predict(X_test)\n",
        "print(\"F-measure SVM =\",metrics.f1_score(y_test, y_pred))\n",
        "disp = metrics.plot_confusion_matrix(class_cancer, X_test, y_test)\n",
        "disp.figure_.suptitle(\"Confusion Matrix svm\")"
      ],
      "execution_count": 4,
      "outputs": [
        {
          "output_type": "stream",
          "text": [
            "F-measure SVM = 0.9250814332247558\n"
          ],
          "name": "stdout"
        },
        {
          "output_type": "execute_result",
          "data": {
            "text/plain": [
              "Text(0.5, 0.98, 'Confusion Matrix svm')"
            ]
          },
          "metadata": {
            "tags": []
          },
          "execution_count": 4
        },
        {
          "output_type": "display_data",
          "data": {
            "image/png": "[encoded data removed]",
            "text/plain": [
              "<Figure size 432x288 with 2 Axes>"
            ]
          },
          "metadata": {
            "tags": [],
            "needs_background": "light"
          }
        }
      ]
    },
    {
      "cell_type": "markdown",
      "metadata": {
        "id": "Rr5VwtytUyFB"
      },
      "source": [
        "### Perceptron:"
      ]
    },
    {
      "cell_type": "code",
      "metadata": {
        "id": "5KauQhOmL5lH",
        "outputId": "653a9ab1-f98a-4c34-d08e-8a4db3172d6e",
        "colab": {
          "base_uri": "https://localhost:8080/"
        }
      },
      "source": [
        "from sklearn.linear_model import Perceptron\n",
        "class_cancer2 = Perceptron(random_state=0)\n",
        "X2_train, X2_test, y2_train, y2_test = train_test_split(cancer_tissues[att], [1 if x == 'B' else 0 for x in cancer_tissues['diagnosis']], test_size=0.8, random_state=0)\n",
        "class_cancer2.fit(X2_train,y2_train)"
      ],
      "execution_count": 5,
      "outputs": [
        {
          "output_type": "execute_result",
          "data": {
            "text/plain": [
              "Perceptron(alpha=0.0001, class_weight=None, early_stopping=False, eta0=1.0,\n",
              "           fit_intercept=True, max_iter=1000, n_iter_no_change=5, n_jobs=None,\n",
              "           penalty=None, random_state=0, shuffle=True, tol=0.001,\n",
              "           validation_fraction=0.1, verbose=0, warm_start=False)"
            ]
          },
          "metadata": {
            "tags": []
          },
          "execution_count": 5
        }
      ]
    },
    {
      "cell_type": "code",
      "metadata": {
        "id": "_dtquMlSMQxZ",
        "outputId": "284f37c1-6f62-44b1-d885-269fa30e192a",
        "colab": {
          "base_uri": "https://localhost:8080/",
          "height": 342
        }
      },
      "source": [
        "y2_pred = class_cancer2.predict(X2_test)\n",
        "print(\"F-measure PERCEPTRONES =\",metrics.f1_score(y2_test, y2_pred))\n",
        "disp = metrics.plot_confusion_matrix(class_cancer2, X2_test, y2_test)\n",
        "disp.figure_.suptitle(\"Confusion Matrix PERCEPTRONES\")"
      ],
      "execution_count": 6,
      "outputs": [
        {
          "output_type": "stream",
          "text": [
            "F-measure PERCEPTRONES = 0.7027027027027026\n"
          ],
          "name": "stdout"
        },
        {
          "output_type": "execute_result",
          "data": {
            "text/plain": [
              "Text(0.5, 0.98, 'Confusion Matrix PERCEPTRONES')"
            ]
          },
          "metadata": {
            "tags": []
          },
          "execution_count": 6
        },
        {
          "output_type": "display_data",
          "data": {
            "image/png": "[encoded data removed]",
            "text/plain": [
              "<Figure size 432x288 with 2 Axes>"
            ]
          },
          "metadata": {
            "tags": [],
            "needs_background": "light"
          }
        }
      ]
    },
    {
      "cell_type": "markdown",
      "metadata": {
        "id": "SQYZfPyfU0nk"
      },
      "source": [
        "### Random forest:\n",
        "DecisionTree, RandomForest, ExtraTrees"
      ]
    },
    {
      "cell_type": "code",
      "metadata": {
        "id": "mT7voSqtE9rZ",
        "outputId": "7e125098-5012-4a46-e7b3-6854b5a73ede",
        "colab": {
          "base_uri": "https://localhost:8080/"
        }
      },
      "source": [
        "from sklearn.ensemble import RandomForestClassifier\n",
        "from sklearn.ensemble import ExtraTreesClassifier\n",
        "from sklearn.tree import DecisionTreeClassifier\n",
        "from sklearn.model_selection import cross_val_score\n",
        "\n",
        "class_cancer3 = DecisionTreeClassifier(random_state=0)\n",
        "scores = cross_val_score(class_cancer3, cancer_tissues[att], [1 if x == 'B' else 0 for x in cancer_tissues['diagnosis']])\n",
        "print(scores.mean())\n",
        "class_cancer3 = RandomForestClassifier()\n",
        "scores = cross_val_score(class_cancer3, cancer_tissues[att], [1 if x == 'B' else 0 for x in cancer_tissues['diagnosis']])\n",
        "print(scores.mean())\n",
        "class_cancer3 = ExtraTreesClassifier()\n",
        "scores = cross_val_score(class_cancer3,cancer_tissues[att], [1 if x == 'B' else 0 for x in cancer_tissues['diagnosis']])\n",
        "print(scores.mean())"
      ],
      "execution_count": 7,
      "outputs": [
        {
          "output_type": "stream",
          "text": [
            "0.9173730787144851\n",
            "0.9648657040832169\n",
            "0.9648657040832168\n"
          ],
          "name": "stdout"
        }
      ]
    },
    {
      "cell_type": "markdown",
      "metadata": {
        "id": "0bUmPGQiCHob"
      },
      "source": [
        "# EJERCICIO 4: AUDIO"
      ]
    },
    {
      "cell_type": "markdown",
      "metadata": {
        "id": "P-krbVzRLJqc"
      },
      "source": [
        "## Descarga y procesamiento (NO EJECUTAR)\n",
        "Esta parte conviene no ejecutarla porque tarda mucho!\n",
        "El .csv procesado de esta parte esta en: https://raw.githubusercontent.com/Copita12/MLCopita/master/mel.csv"
      ]
    },
    {
      "cell_type": "code",
      "metadata": {
        "id": "rc226H6gCNp9",
        "outputId": "c0902f9a-33ad-4abe-98d2-8ab9604ac410",
        "colab": {
          "base_uri": "https://localhost:8080/"
        }
      },
      "source": [
        "# Descargar \n",
        "dataroot = \"dataroot/\"\n",
        "!mkdir dataroot \n",
        "!wget -P dataroot http://opihi.cs.uvic.ca/sound/genres.tar.gz"
      ],
      "execution_count": null,
      "outputs": [
        {
          "output_type": "stream",
          "text": [
            "--2020-11-09 20:22:43--  http://opihi.cs.uvic.ca/sound/genres.tar.gz\n",
            "Resolving opihi.cs.uvic.ca (opihi.cs.uvic.ca)... 142.104.68.135\n",
            "Connecting to opihi.cs.uvic.ca (opihi.cs.uvic.ca)|142.104.68.135|:80... connected.\n",
            "HTTP request sent, awaiting response... 200 OK\n",
            "Length: 1225571541 (1.1G) [application/x-gzip]\n",
            "Saving to: ‘dataroot/genres.tar.gz’\n",
            "\n",
            "genres.tar.gz       100%[===================>]   1.14G  1.64MB/s    in 12m 23s \n",
            "\n",
            "2020-11-09 20:35:07 (1.57 MB/s) - ‘dataroot/genres.tar.gz’ saved [1225571541/1225571541]\n",
            "\n"
          ],
          "name": "stdout"
        }
      ]
    },
    {
      "cell_type": "code",
      "metadata": {
        "id": "lQ7ilZXbCeSx"
      },
      "source": [
        "# descomprimir\n",
        "import tarfile\n",
        "dataroot = \"dataroot/\"\n",
        "with tarfile.open(dataroot+\"genres.tar.gz\",\"r:gz\") as tar_ref:\n",
        "    tar_ref.extractall(dataroot)\n",
        "    tar_ref.close()"
      ],
      "execution_count": null,
      "outputs": []
    },
    {
      "cell_type": "code",
      "metadata": {
        "id": "jSoJTU9RHfeq",
        "outputId": "4ea7b75a-b354-4a5e-a62c-13d4ad307c27",
        "colab": {
          "base_uri": "https://localhost:8080/",
          "height": 404
        }
      },
      "source": [
        "import os\n",
        "import pandas as pd\n",
        "import scipy.io.wavfile\n",
        "import numpy as np\n",
        "data = []\n",
        "rate = []\n",
        "genre = ['blues','classical','country','disco','hiphop','jazz','metal','pop','reggae','rock']\n",
        "r_dir = 'dataroot/genres/'\n",
        "audio_df = pd.DataFrame(index=range(0,1000),columns=['data','rate','genre'])\n",
        "i=0\n",
        "for y in genre:\n",
        "  dir = r_dir + y\n",
        "  for root,sub,files in os.walk(dir):\n",
        "      files = sorted(files)\n",
        "      for f in files:\n",
        "          s_rate, x = scipy.io.wavfile.read(os.path.join(root, f))\n",
        "          rate.append(s_rate)\n",
        "          data.append(x)\n",
        "          audio_df['data'][i] = x\n",
        "          audio_df['rate'][i] = 22050\n",
        "          audio_df['genre'][i] = y\n",
        "          i+=1\n",
        "audio_df"
      ],
      "execution_count": null,
      "outputs": [
        {
          "output_type": "execute_result",
          "data": {
            "text/html": [
              "<div>\n",
              "<style scoped>\n",
              "    .dataframe tbody tr th:only-of-type {\n",
              "        vertical-align: middle;\n",
              "    }\n",
              "\n",
              "    .dataframe tbody tr th {\n",
              "        vertical-align: top;\n",
              "    }\n",
              "\n",
              "    .dataframe thead th {\n",
              "        text-align: right;\n",
              "    }\n",
              "</style>\n",
              "<table border=\"1\" class=\"dataframe\">\n",
              "  <thead>\n",
              "    <tr style=\"text-align: right;\">\n",
              "      <th></th>\n",
              "      <th>data</th>\n",
              "      <th>rate</th>\n",
              "      <th>genre</th>\n",
              "    </tr>\n",
              "  </thead>\n",
              "  <tbody>\n",
              "    <tr>\n",
              "      <th>0</th>\n",
              "      <td>[240, 544, 250, -115, -74, -307, -743, -733, -...</td>\n",
              "      <td>22050</td>\n",
              "      <td>blues</td>\n",
              "    </tr>\n",
              "    <tr>\n",
              "      <th>1</th>\n",
              "      <td>[112, 141, 45, 42, 58, 83, 127, 139, 191, 237,...</td>\n",
              "      <td>22050</td>\n",
              "      <td>blues</td>\n",
              "    </tr>\n",
              "    <tr>\n",
              "      <th>2</th>\n",
              "      <td>[623, 1563, 964, -590, -1144, -2045, -2826, -2...</td>\n",
              "      <td>22050</td>\n",
              "      <td>blues</td>\n",
              "    </tr>\n",
              "    <tr>\n",
              "      <th>3</th>\n",
              "      <td>[-426, -1003, -1182, -1346, -1521, -1497, -138...</td>\n",
              "      <td>22050</td>\n",
              "      <td>blues</td>\n",
              "    </tr>\n",
              "    <tr>\n",
              "      <th>4</th>\n",
              "      <td>[-207, -304, -273, -276, -274, -243, -124, 51,...</td>\n",
              "      <td>22050</td>\n",
              "      <td>blues</td>\n",
              "    </tr>\n",
              "    <tr>\n",
              "      <th>...</th>\n",
              "      <td>...</td>\n",
              "      <td>...</td>\n",
              "      <td>...</td>\n",
              "    </tr>\n",
              "    <tr>\n",
              "      <th>995</th>\n",
              "      <td>[-2708, -4072, -3040, -2451, -1971, -1835, -23...</td>\n",
              "      <td>22050</td>\n",
              "      <td>rock</td>\n",
              "    </tr>\n",
              "    <tr>\n",
              "      <th>996</th>\n",
              "      <td>[2383, 3398, 3346, 3510, 3422, 4014, 4305, 336...</td>\n",
              "      <td>22050</td>\n",
              "      <td>rock</td>\n",
              "    </tr>\n",
              "    <tr>\n",
              "      <th>997</th>\n",
              "      <td>[-1119, -1257, 101, 713, 158, -927, -1468, -10...</td>\n",
              "      <td>22050</td>\n",
              "      <td>rock</td>\n",
              "    </tr>\n",
              "    <tr>\n",
              "      <th>998</th>\n",
              "      <td>[2816, 4746, 4684, 5097, 5291, 5295, 5237, 508...</td>\n",
              "      <td>22050</td>\n",
              "      <td>rock</td>\n",
              "    </tr>\n",
              "    <tr>\n",
              "      <th>999</th>\n",
              "      <td>[-692, -1131, -1159, -1300, -1208, -920, -650,...</td>\n",
              "      <td>22050</td>\n",
              "      <td>rock</td>\n",
              "    </tr>\n",
              "  </tbody>\n",
              "</table>\n",
              "<p>1000 rows × 3 columns</p>\n",
              "</div>"
            ],
            "text/plain": [
              "                                                  data   rate  genre\n",
              "0    [240, 544, 250, -115, -74, -307, -743, -733, -...  22050  blues\n",
              "1    [112, 141, 45, 42, 58, 83, 127, 139, 191, 237,...  22050  blues\n",
              "2    [623, 1563, 964, -590, -1144, -2045, -2826, -2...  22050  blues\n",
              "3    [-426, -1003, -1182, -1346, -1521, -1497, -138...  22050  blues\n",
              "4    [-207, -304, -273, -276, -274, -243, -124, 51,...  22050  blues\n",
              "..                                                 ...    ...    ...\n",
              "995  [-2708, -4072, -3040, -2451, -1971, -1835, -23...  22050   rock\n",
              "996  [2383, 3398, 3346, 3510, 3422, 4014, 4305, 336...  22050   rock\n",
              "997  [-1119, -1257, 101, 713, 158, -927, -1468, -10...  22050   rock\n",
              "998  [2816, 4746, 4684, 5097, 5291, 5295, 5237, 508...  22050   rock\n",
              "999  [-692, -1131, -1159, -1300, -1208, -920, -650,...  22050   rock\n",
              "\n",
              "[1000 rows x 3 columns]"
            ]
          },
          "metadata": {
            "tags": []
          },
          "execution_count": 3
        }
      ]
    },
    {
      "cell_type": "markdown",
      "metadata": {
        "id": "diWedw1N5eql"
      },
      "source": [
        "El siguiente bloque realiza para todas las canciones una division cada 500 datos y guarda su dct discreta de 10 valores, los cuales posteriormente son promediados con las transformadas de los demas segundos de esa cancion dejando un promedio por frecuencias. Este metodo es un ejemplo de lo que NO hay que hacer!"
      ]
    },
    {
      "cell_type": "code",
      "metadata": {
        "id": "rAVrOOvh7RIv"
      },
      "source": [
        "import scipy.fftpack as sp\n",
        "\n",
        "prev = []\n",
        "proc = []\n",
        "freq_df = pd.DataFrame(0,index=range(0,1000),columns=['freq{}'.format(i) for i in range(10)])\n",
        "data_length = 500\n",
        "j=0\n",
        "k=0\n",
        "for c in range(1000):\n",
        "  for i in range(len(audio_df['data'][c])):\n",
        "    prev.append(audio_df['data'][c][i])\n",
        "    j+=1\n",
        "    if j==data_length:\n",
        "      j=0\n",
        "      proc.append(sp.dct(prev,n=10))\n",
        "      prev.clear()\n",
        "  for x in range(len(proc)):\n",
        "    for y in range(10):\n",
        "        freq_df['freq{}'.format(y)][c] += proc[x][y]\n",
        "  proc.clear()\n",
        "\n",
        "# Falta la linea freq_df['genre'] = audio_df['genre'] para asignar los generos de las canciones\n",
        "# En el csv ya aparece con esta linea ejecutada aparte\n",
        "\n",
        "from google.colab import drive\n",
        "drive.mount('/content/drive', force_remount=True)\n",
        "freq_df.to_csv('freq.csv')\n",
        "!cp freq.csv \"/content/drive/My Drive/\"\n",
        "\n",
        "freq_df"
      ],
      "execution_count": null,
      "outputs": []
    },
    {
      "cell_type": "code",
      "metadata": {
        "id": "cyZJeGWK6xQo",
        "outputId": "4e424c42-a761-457f-88e4-1fbed7220e50",
        "colab": {
          "base_uri": "https://localhost:8080/"
        }
      },
      "source": [
        "!pip install python_speech_features"
      ],
      "execution_count": null,
      "outputs": [
        {
          "output_type": "stream",
          "text": [
            "Collecting python_speech_features\n",
            "  Downloading https://files.pythonhosted.org/packages/ff/d1/94c59e20a2631985fbd2124c45177abaa9e0a4eee8ba8a305aa26fc02a8e/python_speech_features-0.6.tar.gz\n",
            "Building wheels for collected packages: python-speech-features\n",
            "  Building wheel for python-speech-features (setup.py) ... \u001b[?25l\u001b[?25hdone\n",
            "  Created wheel for python-speech-features: filename=python_speech_features-0.6-cp36-none-any.whl size=5887 sha256=e49ca12842c272d594ebd9097f2c2141baba8b187f1ec886f47b998c04b483ac\n",
            "  Stored in directory: /root/.cache/pip/wheels/3c/42/7c/f60e9d1b40015cd69b213ad90f7c18a9264cd745b9888134be\n",
            "Successfully built python-speech-features\n",
            "Installing collected packages: python-speech-features\n",
            "Successfully installed python-speech-features-0.6\n"
          ],
          "name": "stdout"
        }
      ]
    },
    {
      "cell_type": "markdown",
      "metadata": {
        "id": "GLQfwi2z6Do0"
      },
      "source": [
        "El siguiente bloque realiza la transformada **MFCC** (Coeﬁcientes Cepstrales en las Frecuencias de Mel) son coeﬁcientes para la representación del habla basados en la percepción auditiva humana, utilizados de manera recurrente a la hora de implementar reconocimiento de audio automatico. Ver mas en: https://python-speech-features.readthedocs.io/en/latest/"
      ]
    },
    {
      "cell_type": "code",
      "metadata": {
        "id": "uawnQFXq6j8p",
        "outputId": "4690f995-5f24-4cbf-dfdb-fdf0afb3c646",
        "colab": {
          "base_uri": "https://localhost:8080/",
          "height": 404
        }
      },
      "source": [
        "from python_speech_features import mfcc\n",
        "from python_speech_features import logfbank\n",
        "\n",
        "proc = []\n",
        "mel_df = pd.DataFrame(0,index=range(0,1000),columns=['feat{}'.format(i) for i in range(13)])\n",
        "\n",
        "# for c in range(1000):\n",
        "#   prev = mfcc(audio_df['data'][c],audio_df['rate'][c],nfft=1024)\n",
        "#   for i in range(26):\n",
        "#     mel_df['feat{}'.format(i)][c] = prev[i]\n",
        "\n",
        "for c in range(0,1000):\n",
        "  proc = mfcc(audio_df['data'][c],audio_df['rate'][c],nfft=1024)\n",
        "  for x in range(len(proc)):\n",
        "    for y in range(13):\n",
        "        mel_df['feat{}'.format(y)][c] += proc[x][y]\n",
        "\n",
        "from google.colab import drive\n",
        "drive.mount('/drive', force_remount=True)\n",
        "mel_df.to_csv('mel.csv')\n",
        "!cp mel.csv \"/drive/My Drive/\"\n",
        "\n",
        "mel_df"
      ],
      "execution_count": null,
      "outputs": [
        {
          "output_type": "execute_result",
          "data": {
            "text/html": [
              "<div>\n",
              "<style scoped>\n",
              "    .dataframe tbody tr th:only-of-type {\n",
              "        vertical-align: middle;\n",
              "    }\n",
              "\n",
              "    .dataframe tbody tr th {\n",
              "        vertical-align: top;\n",
              "    }\n",
              "\n",
              "    .dataframe thead th {\n",
              "        text-align: right;\n",
              "    }\n",
              "</style>\n",
              "<table border=\"1\" class=\"dataframe\">\n",
              "  <thead>\n",
              "    <tr style=\"text-align: right;\">\n",
              "      <th></th>\n",
              "      <th>feat0</th>\n",
              "      <th>feat1</th>\n",
              "      <th>feat2</th>\n",
              "      <th>feat3</th>\n",
              "      <th>feat4</th>\n",
              "      <th>feat5</th>\n",
              "      <th>feat6</th>\n",
              "      <th>feat7</th>\n",
              "      <th>feat8</th>\n",
              "      <th>feat9</th>\n",
              "      <th>feat10</th>\n",
              "      <th>feat11</th>\n",
              "      <th>feat12</th>\n",
              "    </tr>\n",
              "  </thead>\n",
              "  <tbody>\n",
              "    <tr>\n",
              "      <th>0</th>\n",
              "      <td>56253</td>\n",
              "      <td>-3651</td>\n",
              "      <td>-44043</td>\n",
              "      <td>11172</td>\n",
              "      <td>-27208</td>\n",
              "      <td>6232</td>\n",
              "      <td>-53679</td>\n",
              "      <td>17539</td>\n",
              "      <td>-42689</td>\n",
              "      <td>19797</td>\n",
              "      <td>-21308</td>\n",
              "      <td>21643</td>\n",
              "      <td>-12932</td>\n",
              "    </tr>\n",
              "    <tr>\n",
              "      <th>1</th>\n",
              "      <td>50979</td>\n",
              "      <td>1431</td>\n",
              "      <td>-7582</td>\n",
              "      <td>11487</td>\n",
              "      <td>-20925</td>\n",
              "      <td>20309</td>\n",
              "      <td>-49851</td>\n",
              "      <td>43785</td>\n",
              "      <td>-48720</td>\n",
              "      <td>14490</td>\n",
              "      <td>-23705</td>\n",
              "      <td>10880</td>\n",
              "      <td>-20909</td>\n",
              "    </tr>\n",
              "    <tr>\n",
              "      <th>2</th>\n",
              "      <td>57936</td>\n",
              "      <td>8947</td>\n",
              "      <td>-53746</td>\n",
              "      <td>-2001</td>\n",
              "      <td>-40324</td>\n",
              "      <td>26400</td>\n",
              "      <td>-32916</td>\n",
              "      <td>9838</td>\n",
              "      <td>-37865</td>\n",
              "      <td>15796</td>\n",
              "      <td>-33650</td>\n",
              "      <td>6668</td>\n",
              "      <td>-14499</td>\n",
              "    </tr>\n",
              "    <tr>\n",
              "      <th>3</th>\n",
              "      <td>50620</td>\n",
              "      <td>26186</td>\n",
              "      <td>-11634</td>\n",
              "      <td>13342</td>\n",
              "      <td>-22849</td>\n",
              "      <td>25120</td>\n",
              "      <td>-25458</td>\n",
              "      <td>30759</td>\n",
              "      <td>-14078</td>\n",
              "      <td>35858</td>\n",
              "      <td>-21046</td>\n",
              "      <td>21634</td>\n",
              "      <td>-11384</td>\n",
              "    </tr>\n",
              "    <tr>\n",
              "      <th>4</th>\n",
              "      <td>54914</td>\n",
              "      <td>2841</td>\n",
              "      <td>-68148</td>\n",
              "      <td>-3092</td>\n",
              "      <td>-86403</td>\n",
              "      <td>5322</td>\n",
              "      <td>-52686</td>\n",
              "      <td>-772</td>\n",
              "      <td>-36105</td>\n",
              "      <td>17194</td>\n",
              "      <td>-29819</td>\n",
              "      <td>-1856</td>\n",
              "      <td>-15076</td>\n",
              "    </tr>\n",
              "    <tr>\n",
              "      <th>...</th>\n",
              "      <td>...</td>\n",
              "      <td>...</td>\n",
              "      <td>...</td>\n",
              "      <td>...</td>\n",
              "      <td>...</td>\n",
              "      <td>...</td>\n",
              "      <td>...</td>\n",
              "      <td>...</td>\n",
              "      <td>...</td>\n",
              "      <td>...</td>\n",
              "      <td>...</td>\n",
              "      <td>...</td>\n",
              "      <td>...</td>\n",
              "    </tr>\n",
              "    <tr>\n",
              "      <th>995</th>\n",
              "      <td>54430</td>\n",
              "      <td>-10754</td>\n",
              "      <td>-40411</td>\n",
              "      <td>34634</td>\n",
              "      <td>-19094</td>\n",
              "      <td>-3989</td>\n",
              "      <td>-48034</td>\n",
              "      <td>24227</td>\n",
              "      <td>-43243</td>\n",
              "      <td>28879</td>\n",
              "      <td>-14393</td>\n",
              "      <td>25878</td>\n",
              "      <td>-28064</td>\n",
              "    </tr>\n",
              "    <tr>\n",
              "      <th>996</th>\n",
              "      <td>54529</td>\n",
              "      <td>-10042</td>\n",
              "      <td>-50762</td>\n",
              "      <td>18668</td>\n",
              "      <td>-19858</td>\n",
              "      <td>10263</td>\n",
              "      <td>-48365</td>\n",
              "      <td>27986</td>\n",
              "      <td>-42206</td>\n",
              "      <td>13753</td>\n",
              "      <td>-27863</td>\n",
              "      <td>36970</td>\n",
              "      <td>-19172</td>\n",
              "    </tr>\n",
              "    <tr>\n",
              "      <th>997</th>\n",
              "      <td>56245</td>\n",
              "      <td>-14246</td>\n",
              "      <td>-68377</td>\n",
              "      <td>29210</td>\n",
              "      <td>-22716</td>\n",
              "      <td>5684</td>\n",
              "      <td>-29451</td>\n",
              "      <td>16653</td>\n",
              "      <td>-38451</td>\n",
              "      <td>1965</td>\n",
              "      <td>-39329</td>\n",
              "      <td>17896</td>\n",
              "      <td>-23751</td>\n",
              "    </tr>\n",
              "    <tr>\n",
              "      <th>998</th>\n",
              "      <td>50095</td>\n",
              "      <td>6348</td>\n",
              "      <td>-26653</td>\n",
              "      <td>48683</td>\n",
              "      <td>4078</td>\n",
              "      <td>14096</td>\n",
              "      <td>-50276</td>\n",
              "      <td>17663</td>\n",
              "      <td>-36099</td>\n",
              "      <td>30885</td>\n",
              "      <td>-32622</td>\n",
              "      <td>16614</td>\n",
              "      <td>-30841</td>\n",
              "    </tr>\n",
              "    <tr>\n",
              "      <th>999</th>\n",
              "      <td>50445</td>\n",
              "      <td>2596</td>\n",
              "      <td>-44855</td>\n",
              "      <td>26479</td>\n",
              "      <td>-13754</td>\n",
              "      <td>22210</td>\n",
              "      <td>-23019</td>\n",
              "      <td>18978</td>\n",
              "      <td>-31012</td>\n",
              "      <td>32892</td>\n",
              "      <td>-7153</td>\n",
              "      <td>25754</td>\n",
              "      <td>-39389</td>\n",
              "    </tr>\n",
              "  </tbody>\n",
              "</table>\n",
              "<p>1000 rows × 13 columns</p>\n",
              "</div>"
            ],
            "text/plain": [
              "     feat0  feat1  feat2  feat3  feat4  ...  feat8  feat9  feat10  feat11  feat12\n",
              "0    56253  -3651 -44043  11172 -27208  ... -42689  19797  -21308   21643  -12932\n",
              "1    50979   1431  -7582  11487 -20925  ... -48720  14490  -23705   10880  -20909\n",
              "2    57936   8947 -53746  -2001 -40324  ... -37865  15796  -33650    6668  -14499\n",
              "3    50620  26186 -11634  13342 -22849  ... -14078  35858  -21046   21634  -11384\n",
              "4    54914   2841 -68148  -3092 -86403  ... -36105  17194  -29819   -1856  -15076\n",
              "..     ...    ...    ...    ...    ...  ...    ...    ...     ...     ...     ...\n",
              "995  54430 -10754 -40411  34634 -19094  ... -43243  28879  -14393   25878  -28064\n",
              "996  54529 -10042 -50762  18668 -19858  ... -42206  13753  -27863   36970  -19172\n",
              "997  56245 -14246 -68377  29210 -22716  ... -38451   1965  -39329   17896  -23751\n",
              "998  50095   6348 -26653  48683   4078  ... -36099  30885  -32622   16614  -30841\n",
              "999  50445   2596 -44855  26479 -13754  ... -31012  32892   -7153   25754  -39389\n",
              "\n",
              "[1000 rows x 13 columns]"
            ]
          },
          "metadata": {
            "tags": []
          },
          "execution_count": 45
        }
      ]
    },
    {
      "cell_type": "markdown",
      "metadata": {
        "id": "kRSI_uFID0dM"
      },
      "source": [
        "## Ejecutar desde aca"
      ]
    },
    {
      "cell_type": "markdown",
      "metadata": {
        "id": "JKrWogsV7O76"
      },
      "source": [
        "Algunos modelos requieren coeficientes numericos para su entrenamiento, por ello implemento la siguiente funcion."
      ]
    },
    {
      "cell_type": "code",
      "metadata": {
        "id": "4W1AE7BBtvn6"
      },
      "source": [
        "import pandas as pd\n",
        "mel_df = pd.read_csv('https://raw.githubusercontent.com/Copita12/MLCopita/master/mel.csv')\n",
        "\n",
        "def genre_to_num(x):\n",
        "    return {\n",
        "        'blues': 1,\n",
        "        'classical': 2,\n",
        "        'country': 3,\n",
        "        'disco': 4,\n",
        "        'hiphop': 5,\n",
        "        'jazz': 6,\n",
        "        'metal': 7,\n",
        "        'pop': 8,\n",
        "        'reggae': 9,\n",
        "        'rock': 10\n",
        "    }[x]\n",
        "\n",
        "mel_df['genre_in_num'] = [genre_to_num(mel_df['genre'][i]) for i in range(0,1000)]"
      ],
      "execution_count": 12,
      "outputs": []
    },
    {
      "cell_type": "markdown",
      "metadata": {
        "id": "sVV1zG13I3zT"
      },
      "source": [
        "### Entrenar un modelo\n",
        "Probamos algunos modelos y vemos sus estimadores "
      ]
    },
    {
      "cell_type": "code",
      "metadata": {
        "id": "P8lHCq9M2bsM",
        "outputId": "629f248d-6702-4ca2-b444-8b92646e2413",
        "colab": {
          "base_uri": "https://localhost:8080/",
          "height": 342
        }
      },
      "source": [
        "from sklearn import svm\n",
        "from sklearn.metrics import classification_report\n",
        "from sklearn.metrics import confusion_matrix\n",
        "from sklearn import metrics\n",
        "from sklearn.linear_model import Perceptron\n",
        "\n",
        "cols=['feat{}'.format(i) for i in range(13)]\n",
        "music = Perceptron()\n",
        "X_train, X_test, y_train, y_test = train_test_split(mel_df[cols], mel_df['genre'], test_size=0.5,random_state=1)\n",
        "music.fit(X_train,y_train)\n",
        "y_pred = music.predict(X_test)\n",
        "\n",
        "print(\"F-measure perceptron =\",metrics.f1_score(y_test, y_pred,average='macro'))\n",
        "disp = metrics.plot_confusion_matrix(music, X_test, y_test)\n",
        "disp.figure_.suptitle(\"Confusion Matrix perceptron\")"
      ],
      "execution_count": 10,
      "outputs": [
        {
          "output_type": "stream",
          "text": [
            "F-measure perceptron = 0.2972237444319145\n"
          ],
          "name": "stdout"
        },
        {
          "output_type": "execute_result",
          "data": {
            "text/plain": [
              "Text(0.5, 0.98, 'Confusion Matrix perceptron')"
            ]
          },
          "metadata": {
            "tags": []
          },
          "execution_count": 10
        },
        {
          "output_type": "display_data",
          "data": {
            "image/png": "[encoded data removed]",
            "text/plain": [
              "<Figure size 432x288 with 2 Axes>"
            ]
          },
          "metadata": {
            "tags": [],
            "needs_background": "light"
          }
        }
      ]
    },
    {
      "cell_type": "markdown",
      "metadata": {
        "id": "TZq4Z3V07lOA"
      },
      "source": [
        "Este es el modelo con mayor presicion obtenido para este ejecicio :D"
      ]
    },
    {
      "cell_type": "code",
      "metadata": {
        "id": "XLNW-0ncPi4I",
        "outputId": "d0777ed8-5446-460c-c39d-c91a9b12c5f8",
        "colab": {
          "base_uri": "https://localhost:8080/",
          "height": 342
        }
      },
      "source": [
        "music = svm.SVC()\n",
        "X_train, X_test, y_train, y_test = train_test_split(mel_df[cols], mel_df['genre'], test_size=0.2,random_state=110198)\n",
        "music.fit(X_train,y_train)\n",
        "y_pred = music.predict(X_test)\n",
        "\n",
        "print(\"F-measure SVM =\",metrics.f1_score(y_test, y_pred,average='macro'))\n",
        "disp = metrics.plot_confusion_matrix(music, X_test, y_test)\n",
        "disp.figure_.suptitle(\"Confusion Matrix svm\")"
      ],
      "execution_count": 13,
      "outputs": [
        {
          "output_type": "stream",
          "text": [
            "F-measure SVM = 0.5917750963633316\n"
          ],
          "name": "stdout"
        },
        {
          "output_type": "execute_result",
          "data": {
            "text/plain": [
              "Text(0.5, 0.98, 'Confusion Matrix svm')"
            ]
          },
          "metadata": {
            "tags": []
          },
          "execution_count": 13
        },
        {
          "output_type": "display_data",
          "data": {
            "image/png": "[encoded data removed]",
            "text/plain": [
              "<Figure size 432x288 with 2 Axes>"
            ]
          },
          "metadata": {
            "tags": [],
            "needs_background": "light"
          }
        }
      ]
    },
    {
      "cell_type": "markdown",
      "metadata": {
        "id": "VOMZdXeAJNG1"
      },
      "source": [
        "**WIP** (Work in progress): \n",
        "Como conclusion espero mejorar este modelo mediante una vectorizacion de distintos atributos, dejando de lado la informacion que nos provee la MFCC la cual es util a la hora de la representación del habla basados en la percepción auditiva humana y utilizando un poco mas un espectrograma el cual es bidimensional y requiere un procesamiento distinto de datos."
      ]
    }
  ]
}