{
  "nbformat": 4,
  "nbformat_minor": 0,
  "metadata": {
    "colab": {
      "name": "TP2 - Aprendizaje de Maquinas",
      "provenance": [],
      "collapsed_sections": [
        "mWYAO9S_Icij"
      ],
      "include_colab_link": true
    },
    "kernelspec": {
      "name": "python3",
      "display_name": "Python 3"
    }
  },
  "cells": [
    {
      "cell_type": "markdown",
      "metadata": {
        "id": "view-in-github",
        "colab_type": "text"
      },
      "source": [
        "<a href=\"https://colab.research.google.com/github/Copita12/MLCopita/blob/master/TP2_Aprendizaje_de_Maquinas.ipynb\" target=\"_parent\"><img src=\"https://colab.research.google.com/assets/colab-badge.svg\" alt=\"Open In Colab\"/></a>"
      ]
    },
    {
      "cell_type": "markdown",
      "metadata": {
        "id": "mWYAO9S_Icij"
      },
      "source": [
        "## Ejercicio 1:"
      ]
    },
    {
      "cell_type": "markdown",
      "metadata": {
        "id": "xdSpZ-I1JQeV"
      },
      "source": [
        "Importamos datos para ser analizados:"
      ]
    },
    {
      "cell_type": "code",
      "metadata": {
        "id": "2tMCm6dkIPgX",
        "outputId": "f96514f8-b71f-4663-9e34-06c3866e4d73",
        "colab": {
          "base_uri": "https://localhost:8080/",
          "height": 826
        }
      },
      "source": [
        "import numpy as np \n",
        "import pandas as pd \n",
        "\n",
        "import seaborn as sns\n",
        "import matplotlib.pyplot as plt\n",
        "\n",
        "casos_df = pd.read_csv(\"https://raw.githubusercontent.com/manlio99/Materia-de-aprendizaje/master/4_DataWrangling/data/casos_covid_bahia.csv\")\n",
        "camas_df = pd.read_csv(\"https://raw.githubusercontent.com/manlio99/Materia-de-aprendizaje/master/4_DataWrangling/data/camas_covid_bahia.csv\")\n",
        "casos_df['nuevos']=0\n",
        "casos_df['nuevos_validos']='b'\n",
        "#casos_df['fecha']=casos_df.index\n",
        "\n",
        "for x in range(1,88,1):\n",
        "  casos_df['nuevos'][x]=casos_df['activos'][x]-casos_df['activos'][x-1]\n",
        "  if casos_df['nuevos'][x] <= 0 :\n",
        "    casos_df['nuevos_validos'][x]='r'\n",
        "  else:\n",
        "    casos_df['nuevos_validos'][x]='b'\n",
        "casos_df"
      ],
      "execution_count": 25,
      "outputs": [
        {
          "output_type": "stream",
          "text": [
            "/usr/local/lib/python3.6/dist-packages/ipykernel_launcher.py:14: SettingWithCopyWarning: \n",
            "A value is trying to be set on a copy of a slice from a DataFrame\n",
            "\n",
            "See the caveats in the documentation: https://pandas.pydata.org/pandas-docs/stable/user_guide/indexing.html#returning-a-view-versus-a-copy\n",
            "  \n",
            "/usr/local/lib/python3.6/dist-packages/ipykernel_launcher.py:18: SettingWithCopyWarning: \n",
            "A value is trying to be set on a copy of a slice from a DataFrame\n",
            "\n",
            "See the caveats in the documentation: https://pandas.pydata.org/pandas-docs/stable/user_guide/indexing.html#returning-a-view-versus-a-copy\n",
            "/usr/local/lib/python3.6/dist-packages/ipykernel_launcher.py:16: SettingWithCopyWarning: \n",
            "A value is trying to be set on a copy of a slice from a DataFrame\n",
            "\n",
            "See the caveats in the documentation: https://pandas.pydata.org/pandas-docs/stable/user_guide/indexing.html#returning-a-view-versus-a-copy\n",
            "  app.launch_new_instance()\n"
          ],
          "name": "stderr"
        },
        {
          "output_type": "execute_result",
          "data": {
            "text/html": [
              "<div>\n",
              "<style scoped>\n",
              "    .dataframe tbody tr th:only-of-type {\n",
              "        vertical-align: middle;\n",
              "    }\n",
              "\n",
              "    .dataframe tbody tr th {\n",
              "        vertical-align: top;\n",
              "    }\n",
              "\n",
              "    .dataframe thead th {\n",
              "        text-align: right;\n",
              "    }\n",
              "</style>\n",
              "<table border=\"1\" class=\"dataframe\">\n",
              "  <thead>\n",
              "    <tr style=\"text-align: right;\">\n",
              "      <th></th>\n",
              "      <th>fecha</th>\n",
              "      <th>confirmados</th>\n",
              "      <th>activos</th>\n",
              "      <th>recuperados</th>\n",
              "      <th>decesos</th>\n",
              "      <th>descartados</th>\n",
              "      <th>sospechosos</th>\n",
              "      <th>contencion_psicologica</th>\n",
              "      <th>monitoreo_epidemiologico</th>\n",
              "      <th>aislamiento_por_contacto_estrecho</th>\n",
              "      <th>aprehendidos</th>\n",
              "      <th>nuevos</th>\n",
              "      <th>nuevos_validos</th>\n",
              "    </tr>\n",
              "  </thead>\n",
              "  <tbody>\n",
              "    <tr>\n",
              "      <th>0</th>\n",
              "      <td>2020-06-30</td>\n",
              "      <td>106</td>\n",
              "      <td>29</td>\n",
              "      <td>71</td>\n",
              "      <td>6</td>\n",
              "      <td>574</td>\n",
              "      <td>23</td>\n",
              "      <td>342</td>\n",
              "      <td>2338</td>\n",
              "      <td>181</td>\n",
              "      <td>0</td>\n",
              "      <td>0</td>\n",
              "      <td>b</td>\n",
              "    </tr>\n",
              "    <tr>\n",
              "      <th>1</th>\n",
              "      <td>2020-07-01</td>\n",
              "      <td>114</td>\n",
              "      <td>31</td>\n",
              "      <td>77</td>\n",
              "      <td>6</td>\n",
              "      <td>581</td>\n",
              "      <td>22</td>\n",
              "      <td>342</td>\n",
              "      <td>2207</td>\n",
              "      <td>172</td>\n",
              "      <td>0</td>\n",
              "      <td>2</td>\n",
              "      <td>b</td>\n",
              "    </tr>\n",
              "    <tr>\n",
              "      <th>2</th>\n",
              "      <td>2020-07-02</td>\n",
              "      <td>124</td>\n",
              "      <td>40</td>\n",
              "      <td>78</td>\n",
              "      <td>6</td>\n",
              "      <td>588</td>\n",
              "      <td>24</td>\n",
              "      <td>356</td>\n",
              "      <td>2162</td>\n",
              "      <td>176</td>\n",
              "      <td>0</td>\n",
              "      <td>9</td>\n",
              "      <td>b</td>\n",
              "    </tr>\n",
              "    <tr>\n",
              "      <th>3</th>\n",
              "      <td>2020-07-03</td>\n",
              "      <td>137</td>\n",
              "      <td>53</td>\n",
              "      <td>78</td>\n",
              "      <td>6</td>\n",
              "      <td>606</td>\n",
              "      <td>31</td>\n",
              "      <td>356</td>\n",
              "      <td>2353</td>\n",
              "      <td>190</td>\n",
              "      <td>0</td>\n",
              "      <td>13</td>\n",
              "      <td>b</td>\n",
              "    </tr>\n",
              "    <tr>\n",
              "      <th>4</th>\n",
              "      <td>2020-07-04</td>\n",
              "      <td>154</td>\n",
              "      <td>70</td>\n",
              "      <td>78</td>\n",
              "      <td>6</td>\n",
              "      <td>622</td>\n",
              "      <td>31</td>\n",
              "      <td>356</td>\n",
              "      <td>2377</td>\n",
              "      <td>214</td>\n",
              "      <td>0</td>\n",
              "      <td>17</td>\n",
              "      <td>b</td>\n",
              "    </tr>\n",
              "    <tr>\n",
              "      <th>...</th>\n",
              "      <td>...</td>\n",
              "      <td>...</td>\n",
              "      <td>...</td>\n",
              "      <td>...</td>\n",
              "      <td>...</td>\n",
              "      <td>...</td>\n",
              "      <td>...</td>\n",
              "      <td>...</td>\n",
              "      <td>...</td>\n",
              "      <td>...</td>\n",
              "      <td>...</td>\n",
              "      <td>...</td>\n",
              "      <td>...</td>\n",
              "    </tr>\n",
              "    <tr>\n",
              "      <th>83</th>\n",
              "      <td>2020-09-21</td>\n",
              "      <td>2589</td>\n",
              "      <td>1319</td>\n",
              "      <td>1209</td>\n",
              "      <td>61</td>\n",
              "      <td>3557</td>\n",
              "      <td>303</td>\n",
              "      <td>417</td>\n",
              "      <td>1261</td>\n",
              "      <td>510</td>\n",
              "      <td>0</td>\n",
              "      <td>52</td>\n",
              "      <td>b</td>\n",
              "    </tr>\n",
              "    <tr>\n",
              "      <th>84</th>\n",
              "      <td>2020-09-22</td>\n",
              "      <td>2714</td>\n",
              "      <td>1371</td>\n",
              "      <td>1282</td>\n",
              "      <td>61</td>\n",
              "      <td>3615</td>\n",
              "      <td>292</td>\n",
              "      <td>417</td>\n",
              "      <td>1197</td>\n",
              "      <td>554</td>\n",
              "      <td>0</td>\n",
              "      <td>52</td>\n",
              "      <td>b</td>\n",
              "    </tr>\n",
              "    <tr>\n",
              "      <th>85</th>\n",
              "      <td>2020-09-23</td>\n",
              "      <td>2841</td>\n",
              "      <td>1464</td>\n",
              "      <td>1313</td>\n",
              "      <td>64</td>\n",
              "      <td>3658</td>\n",
              "      <td>286</td>\n",
              "      <td>417</td>\n",
              "      <td>1206</td>\n",
              "      <td>562</td>\n",
              "      <td>0</td>\n",
              "      <td>93</td>\n",
              "      <td>b</td>\n",
              "    </tr>\n",
              "    <tr>\n",
              "      <th>86</th>\n",
              "      <td>2020-09-24</td>\n",
              "      <td>2906</td>\n",
              "      <td>1474</td>\n",
              "      <td>1366</td>\n",
              "      <td>66</td>\n",
              "      <td>3682</td>\n",
              "      <td>331</td>\n",
              "      <td>417</td>\n",
              "      <td>1221</td>\n",
              "      <td>562</td>\n",
              "      <td>0</td>\n",
              "      <td>10</td>\n",
              "      <td>b</td>\n",
              "    </tr>\n",
              "    <tr>\n",
              "      <th>87</th>\n",
              "      <td>2020-09-25</td>\n",
              "      <td>3012</td>\n",
              "      <td>1512</td>\n",
              "      <td>1434</td>\n",
              "      <td>66</td>\n",
              "      <td>3738</td>\n",
              "      <td>298</td>\n",
              "      <td>417</td>\n",
              "      <td>1168</td>\n",
              "      <td>625</td>\n",
              "      <td>0</td>\n",
              "      <td>38</td>\n",
              "      <td>b</td>\n",
              "    </tr>\n",
              "  </tbody>\n",
              "</table>\n",
              "<p>88 rows × 13 columns</p>\n",
              "</div>"
            ],
            "text/plain": [
              "         fecha  confirmados  activos  ...  aprehendidos  nuevos  nuevos_validos\n",
              "0   2020-06-30          106       29  ...             0       0               b\n",
              "1   2020-07-01          114       31  ...             0       2               b\n",
              "2   2020-07-02          124       40  ...             0       9               b\n",
              "3   2020-07-03          137       53  ...             0      13               b\n",
              "4   2020-07-04          154       70  ...             0      17               b\n",
              "..         ...          ...      ...  ...           ...     ...             ...\n",
              "83  2020-09-21         2589     1319  ...             0      52               b\n",
              "84  2020-09-22         2714     1371  ...             0      52               b\n",
              "85  2020-09-23         2841     1464  ...             0      93               b\n",
              "86  2020-09-24         2906     1474  ...             0      10               b\n",
              "87  2020-09-25         3012     1512  ...             0      38               b\n",
              "\n",
              "[88 rows x 13 columns]"
            ]
          },
          "metadata": {
            "tags": []
          },
          "execution_count": 25
        }
      ]
    },
    {
      "cell_type": "code",
      "metadata": {
        "id": "hv1Tq12p9dMj",
        "outputId": "45ae526d-b1f5-43d4-a3e6-c16b3d2434e3",
        "colab": {
          "base_uri": "https://localhost:8080/",
          "height": 592
        }
      },
      "source": [
        "camas_df"
      ],
      "execution_count": 26,
      "outputs": [
        {
          "output_type": "execute_result",
          "data": {
            "text/html": [
              "<div>\n",
              "<style scoped>\n",
              "    .dataframe tbody tr th:only-of-type {\n",
              "        vertical-align: middle;\n",
              "    }\n",
              "\n",
              "    .dataframe tbody tr th {\n",
              "        vertical-align: top;\n",
              "    }\n",
              "\n",
              "    .dataframe thead th {\n",
              "        text-align: right;\n",
              "    }\n",
              "</style>\n",
              "<table border=\"1\" class=\"dataframe\">\n",
              "  <thead>\n",
              "    <tr style=\"text-align: right;\">\n",
              "      <th></th>\n",
              "      <th>informeNumero</th>\n",
              "      <th>fecha</th>\n",
              "      <th>total_camas_hospitales</th>\n",
              "      <th>camas_ocupadas_hospitales</th>\n",
              "      <th>porcentaje_ocupacion_camas_hospitales</th>\n",
              "      <th>camas_covid</th>\n",
              "      <th>camas_sospechosos_covid</th>\n",
              "      <th>camas_confirmados_covid</th>\n",
              "      <th>porcentaje_ocupacion_camas_covid</th>\n",
              "      <th>uti_covid_totales</th>\n",
              "      <th>uti_covid_ocupadas</th>\n",
              "      <th>respiradores_totales</th>\n",
              "      <th>respiradores_ocupados</th>\n",
              "      <th>respiradores_covid_totales</th>\n",
              "      <th>respiradores_covid_ocupados</th>\n",
              "      <th>total_camas_ucma</th>\n",
              "      <th>total_camas_ocupadas_ucma</th>\n",
              "      <th>sedes_ucma</th>\n",
              "      <th>observaciones</th>\n",
              "    </tr>\n",
              "  </thead>\n",
              "  <tbody>\n",
              "    <tr>\n",
              "      <th>0</th>\n",
              "      <td>131</td>\n",
              "      <td>2020-09-25</td>\n",
              "      <td>848</td>\n",
              "      <td>401</td>\n",
              "      <td>47</td>\n",
              "      <td>163</td>\n",
              "      <td>42</td>\n",
              "      <td>84</td>\n",
              "      <td>77</td>\n",
              "      <td>32</td>\n",
              "      <td>24</td>\n",
              "      <td>142</td>\n",
              "      <td>41</td>\n",
              "      <td>69</td>\n",
              "      <td>25</td>\n",
              "      <td>147</td>\n",
              "      <td>19</td>\n",
              "      <td>4</td>\n",
              "      <td>NaN</td>\n",
              "    </tr>\n",
              "    <tr>\n",
              "      <th>1</th>\n",
              "      <td>130</td>\n",
              "      <td>2020-09-24</td>\n",
              "      <td>848</td>\n",
              "      <td>391</td>\n",
              "      <td>46</td>\n",
              "      <td>163</td>\n",
              "      <td>25</td>\n",
              "      <td>86</td>\n",
              "      <td>68</td>\n",
              "      <td>32</td>\n",
              "      <td>17</td>\n",
              "      <td>142</td>\n",
              "      <td>39</td>\n",
              "      <td>69</td>\n",
              "      <td>21</td>\n",
              "      <td>147</td>\n",
              "      <td>21</td>\n",
              "      <td>4</td>\n",
              "      <td>NaN</td>\n",
              "    </tr>\n",
              "    <tr>\n",
              "      <th>2</th>\n",
              "      <td>129</td>\n",
              "      <td>2020-09-23</td>\n",
              "      <td>848</td>\n",
              "      <td>402</td>\n",
              "      <td>47</td>\n",
              "      <td>163</td>\n",
              "      <td>21</td>\n",
              "      <td>85</td>\n",
              "      <td>65</td>\n",
              "      <td>32</td>\n",
              "      <td>22</td>\n",
              "      <td>142</td>\n",
              "      <td>42</td>\n",
              "      <td>71</td>\n",
              "      <td>23</td>\n",
              "      <td>147</td>\n",
              "      <td>19</td>\n",
              "      <td>4</td>\n",
              "      <td>NaN</td>\n",
              "    </tr>\n",
              "    <tr>\n",
              "      <th>3</th>\n",
              "      <td>128</td>\n",
              "      <td>2020-09-22</td>\n",
              "      <td>848</td>\n",
              "      <td>391</td>\n",
              "      <td>46</td>\n",
              "      <td>163</td>\n",
              "      <td>30</td>\n",
              "      <td>83</td>\n",
              "      <td>69</td>\n",
              "      <td>32</td>\n",
              "      <td>21</td>\n",
              "      <td>142</td>\n",
              "      <td>43</td>\n",
              "      <td>72</td>\n",
              "      <td>24</td>\n",
              "      <td>147</td>\n",
              "      <td>15</td>\n",
              "      <td>4</td>\n",
              "      <td>NaN</td>\n",
              "    </tr>\n",
              "    <tr>\n",
              "      <th>4</th>\n",
              "      <td>127</td>\n",
              "      <td>2020-09-21</td>\n",
              "      <td>848</td>\n",
              "      <td>368</td>\n",
              "      <td>43</td>\n",
              "      <td>163</td>\n",
              "      <td>32</td>\n",
              "      <td>82</td>\n",
              "      <td>69</td>\n",
              "      <td>32</td>\n",
              "      <td>24</td>\n",
              "      <td>142</td>\n",
              "      <td>40</td>\n",
              "      <td>72</td>\n",
              "      <td>24</td>\n",
              "      <td>147</td>\n",
              "      <td>10</td>\n",
              "      <td>4</td>\n",
              "      <td>NaN</td>\n",
              "    </tr>\n",
              "    <tr>\n",
              "      <th>...</th>\n",
              "      <td>...</td>\n",
              "      <td>...</td>\n",
              "      <td>...</td>\n",
              "      <td>...</td>\n",
              "      <td>...</td>\n",
              "      <td>...</td>\n",
              "      <td>...</td>\n",
              "      <td>...</td>\n",
              "      <td>...</td>\n",
              "      <td>...</td>\n",
              "      <td>...</td>\n",
              "      <td>...</td>\n",
              "      <td>...</td>\n",
              "      <td>...</td>\n",
              "      <td>...</td>\n",
              "      <td>...</td>\n",
              "      <td>...</td>\n",
              "      <td>...</td>\n",
              "      <td>...</td>\n",
              "    </tr>\n",
              "    <tr>\n",
              "      <th>83</th>\n",
              "      <td>10</td>\n",
              "      <td>2020-07-04</td>\n",
              "      <td>848</td>\n",
              "      <td>343</td>\n",
              "      <td>40</td>\n",
              "      <td>155</td>\n",
              "      <td>14</td>\n",
              "      <td>14</td>\n",
              "      <td>18</td>\n",
              "      <td>32</td>\n",
              "      <td>3</td>\n",
              "      <td>143</td>\n",
              "      <td>22</td>\n",
              "      <td>0</td>\n",
              "      <td>0</td>\n",
              "      <td>137</td>\n",
              "      <td>0</td>\n",
              "      <td>3</td>\n",
              "      <td>NaN</td>\n",
              "    </tr>\n",
              "    <tr>\n",
              "      <th>84</th>\n",
              "      <td>9</td>\n",
              "      <td>2020-07-03</td>\n",
              "      <td>848</td>\n",
              "      <td>349</td>\n",
              "      <td>41</td>\n",
              "      <td>155</td>\n",
              "      <td>18</td>\n",
              "      <td>13</td>\n",
              "      <td>20</td>\n",
              "      <td>32</td>\n",
              "      <td>4</td>\n",
              "      <td>143</td>\n",
              "      <td>25</td>\n",
              "      <td>0</td>\n",
              "      <td>0</td>\n",
              "      <td>137</td>\n",
              "      <td>0</td>\n",
              "      <td>3</td>\n",
              "      <td>NaN</td>\n",
              "    </tr>\n",
              "    <tr>\n",
              "      <th>85</th>\n",
              "      <td>8</td>\n",
              "      <td>2020-07-02</td>\n",
              "      <td>848</td>\n",
              "      <td>358</td>\n",
              "      <td>42</td>\n",
              "      <td>155</td>\n",
              "      <td>14</td>\n",
              "      <td>14</td>\n",
              "      <td>18</td>\n",
              "      <td>32</td>\n",
              "      <td>4</td>\n",
              "      <td>143</td>\n",
              "      <td>25</td>\n",
              "      <td>0</td>\n",
              "      <td>0</td>\n",
              "      <td>137</td>\n",
              "      <td>0</td>\n",
              "      <td>3</td>\n",
              "      <td>NaN</td>\n",
              "    </tr>\n",
              "    <tr>\n",
              "      <th>86</th>\n",
              "      <td>7</td>\n",
              "      <td>2020-07-01</td>\n",
              "      <td>848</td>\n",
              "      <td>386</td>\n",
              "      <td>45</td>\n",
              "      <td>155</td>\n",
              "      <td>12</td>\n",
              "      <td>12</td>\n",
              "      <td>15</td>\n",
              "      <td>32</td>\n",
              "      <td>2</td>\n",
              "      <td>143</td>\n",
              "      <td>24</td>\n",
              "      <td>0</td>\n",
              "      <td>0</td>\n",
              "      <td>137</td>\n",
              "      <td>0</td>\n",
              "      <td>3</td>\n",
              "      <td>NaN</td>\n",
              "    </tr>\n",
              "    <tr>\n",
              "      <th>87</th>\n",
              "      <td>1</td>\n",
              "      <td>2020-06-30</td>\n",
              "      <td>848</td>\n",
              "      <td>347</td>\n",
              "      <td>40</td>\n",
              "      <td>155</td>\n",
              "      <td>15</td>\n",
              "      <td>10</td>\n",
              "      <td>16</td>\n",
              "      <td>32</td>\n",
              "      <td>1</td>\n",
              "      <td>143</td>\n",
              "      <td>23</td>\n",
              "      <td>0</td>\n",
              "      <td>0</td>\n",
              "      <td>137</td>\n",
              "      <td>0</td>\n",
              "      <td>3</td>\n",
              "      <td>NaN</td>\n",
              "    </tr>\n",
              "  </tbody>\n",
              "</table>\n",
              "<p>88 rows × 19 columns</p>\n",
              "</div>"
            ],
            "text/plain": [
              "    informeNumero       fecha  ...  sedes_ucma  observaciones\n",
              "0             131  2020-09-25  ...           4            NaN\n",
              "1             130  2020-09-24  ...           4            NaN\n",
              "2             129  2020-09-23  ...           4            NaN\n",
              "3             128  2020-09-22  ...           4            NaN\n",
              "4             127  2020-09-21  ...           4            NaN\n",
              "..            ...         ...  ...         ...            ...\n",
              "83             10  2020-07-04  ...           3            NaN\n",
              "84              9  2020-07-03  ...           3            NaN\n",
              "85              8  2020-07-02  ...           3            NaN\n",
              "86              7  2020-07-01  ...           3            NaN\n",
              "87              1  2020-06-30  ...           3            NaN\n",
              "\n",
              "[88 rows x 19 columns]"
            ]
          },
          "metadata": {
            "tags": []
          },
          "execution_count": 26
        }
      ]
    },
    {
      "cell_type": "markdown",
      "metadata": {
        "id": "6DNrqwNb-nnq"
      },
      "source": [
        "Claramente en los proximos graficos podemos visualizar como **no** podemos tratar el dataset de camas como si fuera continuo por una cuestion de falta de datos"
      ]
    },
    {
      "cell_type": "code",
      "metadata": {
        "id": "2ZNfUddA_OBr",
        "outputId": "0d87af58-c0b6-4b6c-81de-0d00dc636080",
        "colab": {
          "base_uri": "https://localhost:8080/",
          "height": 281
        }
      },
      "source": [
        "plt.scatter(camas_df['informeNumero'],camas_df['fecha'])"
      ],
      "execution_count": 27,
      "outputs": [
        {
          "output_type": "execute_result",
          "data": {
            "text/plain": [
              "<matplotlib.collections.PathCollection at 0x7f72fa5e1240>"
            ]
          },
          "metadata": {
            "tags": []
          },
          "execution_count": 27
        },
        {
          "output_type": "display_data",
          "data": {
            "image/png": "[encoded data removed]",
            "text/plain": [
              "<Figure size 432x288 with 1 Axes>"
            ]
          },
          "metadata": {
            "tags": [],
            "needs_background": "light"
          }
        }
      ]
    },
    {
      "cell_type": "code",
      "metadata": {
        "id": "42nMy5DX-Anl",
        "outputId": "f1b3133a-27cc-41c5-9feb-fbc9cf76fa60",
        "colab": {
          "base_uri": "https://localhost:8080/",
          "height": 284
        }
      },
      "source": [
        "plt.scatter(camas_df['informeNumero'],camas_df['porcentaje_ocupacion_camas_covid'])"
      ],
      "execution_count": 28,
      "outputs": [
        {
          "output_type": "execute_result",
          "data": {
            "text/plain": [
              "<matplotlib.collections.PathCollection at 0x7f72fa4ba208>"
            ]
          },
          "metadata": {
            "tags": []
          },
          "execution_count": 28
        },
        {
          "output_type": "display_data",
          "data": {
            "image/png": "[encoded data removed]",
            "text/plain": [
              "<Figure size 432x288 with 1 Axes>"
            ]
          },
          "metadata": {
            "tags": [],
            "needs_background": "light"
          }
        }
      ]
    },
    {
      "cell_type": "code",
      "metadata": {
        "id": "fhzeQaHzAGoW",
        "outputId": "2da6bba6-287d-4533-e5a2-f259a64bc295",
        "colab": {
          "base_uri": "https://localhost:8080/",
          "height": 281
        }
      },
      "source": [
        "plt.scatter(camas_df['informeNumero'],camas_df['respiradores_covid_ocupados'])"
      ],
      "execution_count": 29,
      "outputs": [
        {
          "output_type": "execute_result",
          "data": {
            "text/plain": [
              "<matplotlib.collections.PathCollection at 0x7f72fa418cc0>"
            ]
          },
          "metadata": {
            "tags": []
          },
          "execution_count": 29
        },
        {
          "output_type": "display_data",
          "data": {
            "image/png": "[encoded data removed]",
            "text/plain": [
              "<Figure size 432x288 with 1 Axes>"
            ]
          },
          "metadata": {
            "tags": [],
            "needs_background": "light"
          }
        }
      ]
    },
    {
      "cell_type": "markdown",
      "metadata": {
        "id": "NFFJzAXUAlfr"
      },
      "source": [
        "En cambio con el dataset de los casos tranquilamente podriamos tratarlo como si fuera continuo"
      ]
    },
    {
      "cell_type": "code",
      "metadata": {
        "id": "na8EiFGhAQco",
        "outputId": "5fa9c11f-4031-4822-96b3-958093acc9bb",
        "colab": {
          "base_uri": "https://localhost:8080/",
          "height": 281
        }
      },
      "source": [
        "plt.scatter(casos_df['fecha'],casos_df['confirmados'])"
      ],
      "execution_count": 30,
      "outputs": [
        {
          "output_type": "execute_result",
          "data": {
            "text/plain": [
              "<matplotlib.collections.PathCollection at 0x7f72fa3fd5c0>"
            ]
          },
          "metadata": {
            "tags": []
          },
          "execution_count": 30
        },
        {
          "output_type": "display_data",
          "data": {
            "image/png": "[encoded data removed]",
            "text/plain": [
              "<Figure size 432x288 with 1 Axes>"
            ]
          },
          "metadata": {
            "tags": [],
            "needs_background": "light"
          }
        }
      ]
    },
    {
      "cell_type": "code",
      "metadata": {
        "id": "39q-crwyAgLH",
        "outputId": "480b2e71-6bfd-4505-f8d2-c8b4646f60e8",
        "colab": {
          "base_uri": "https://localhost:8080/",
          "height": 281
        }
      },
      "source": [
        "plt.scatter(casos_df['fecha'],casos_df['decesos'])"
      ],
      "execution_count": 31,
      "outputs": [
        {
          "output_type": "execute_result",
          "data": {
            "text/plain": [
              "<matplotlib.collections.PathCollection at 0x7f72fa2abf28>"
            ]
          },
          "metadata": {
            "tags": []
          },
          "execution_count": 31
        },
        {
          "output_type": "display_data",
          "data": {
            "image/png": "[encoded data removed]",
            "text/plain": [
              "<Figure size 432x288 with 1 Axes>"
            ]
          },
          "metadata": {
            "tags": [],
            "needs_background": "light"
          }
        }
      ]
    },
    {
      "cell_type": "markdown",
      "metadata": {
        "id": "0mktl2MWRwqt"
      },
      "source": [
        "## Ejercicio 2:"
      ]
    },
    {
      "cell_type": "markdown",
      "metadata": {
        "id": "_2wcaYETnpx-"
      },
      "source": [
        "Cargamos datasets de naranjas y mandarinas con distribuciones normales"
      ]
    },
    {
      "cell_type": "code",
      "metadata": {
        "id": "MCdxFkgGRzkM",
        "outputId": "29ab1ed8-d7c2-446f-b135-45b7a9d72a12",
        "colab": {
          "base_uri": "https://localhost:8080/",
          "height": 404
        }
      },
      "source": [
        "np.random.seed(1)\n",
        "#Promedio tamaño de naranjas\n",
        "nmean=18\n",
        "nstd=2\n",
        "#Promedio tamaño de mandarinas\n",
        "mmean=15\n",
        "mstd=3\n",
        "naranjas = pd.Series(np.random.normal(loc=nmean,scale=nstd,size=50))\n",
        "tag1 = 'Naranja'\n",
        "df1 = pd.DataFrame({'Tag':tag1,'Values':naranjas})\n",
        "mandas = pd.Series(np.random.normal(loc=mmean,scale=mstd,size=50))\n",
        "tag2 = 'Mandarina'\n",
        "df2 = pd.DataFrame({'Tag':tag2,'Values':mandas})\n",
        "df = pd.concat([df1,df2],ignore_index=True)\n",
        "df"
      ],
      "execution_count": 20,
      "outputs": [
        {
          "output_type": "execute_result",
          "data": {
            "text/html": [
              "<div>\n",
              "<style scoped>\n",
              "    .dataframe tbody tr th:only-of-type {\n",
              "        vertical-align: middle;\n",
              "    }\n",
              "\n",
              "    .dataframe tbody tr th {\n",
              "        vertical-align: top;\n",
              "    }\n",
              "\n",
              "    .dataframe thead th {\n",
              "        text-align: right;\n",
              "    }\n",
              "</style>\n",
              "<table border=\"1\" class=\"dataframe\">\n",
              "  <thead>\n",
              "    <tr style=\"text-align: right;\">\n",
              "      <th></th>\n",
              "      <th>Tag</th>\n",
              "      <th>Values</th>\n",
              "    </tr>\n",
              "  </thead>\n",
              "  <tbody>\n",
              "    <tr>\n",
              "      <th>0</th>\n",
              "      <td>Naranja</td>\n",
              "      <td>21.248691</td>\n",
              "    </tr>\n",
              "    <tr>\n",
              "      <th>1</th>\n",
              "      <td>Naranja</td>\n",
              "      <td>16.776487</td>\n",
              "    </tr>\n",
              "    <tr>\n",
              "      <th>2</th>\n",
              "      <td>Naranja</td>\n",
              "      <td>16.943656</td>\n",
              "    </tr>\n",
              "    <tr>\n",
              "      <th>3</th>\n",
              "      <td>Naranja</td>\n",
              "      <td>15.854063</td>\n",
              "    </tr>\n",
              "    <tr>\n",
              "      <th>4</th>\n",
              "      <td>Naranja</td>\n",
              "      <td>19.730815</td>\n",
              "    </tr>\n",
              "    <tr>\n",
              "      <th>...</th>\n",
              "      <td>...</td>\n",
              "      <td>...</td>\n",
              "    </tr>\n",
              "    <tr>\n",
              "      <th>95</th>\n",
              "      <td>Mandarina</td>\n",
              "      <td>15.232020</td>\n",
              "    </tr>\n",
              "    <tr>\n",
              "      <th>96</th>\n",
              "      <td>Mandarina</td>\n",
              "      <td>13.968439</td>\n",
              "    </tr>\n",
              "    <tr>\n",
              "      <th>97</th>\n",
              "      <td>Mandarina</td>\n",
              "      <td>15.130791</td>\n",
              "    </tr>\n",
              "    <tr>\n",
              "      <th>98</th>\n",
              "      <td>Mandarina</td>\n",
              "      <td>13.139997</td>\n",
              "    </tr>\n",
              "    <tr>\n",
              "      <th>99</th>\n",
              "      <td>Mandarina</td>\n",
              "      <td>17.094096</td>\n",
              "    </tr>\n",
              "  </tbody>\n",
              "</table>\n",
              "<p>100 rows × 2 columns</p>\n",
              "</div>"
            ],
            "text/plain": [
              "          Tag     Values\n",
              "0     Naranja  21.248691\n",
              "1     Naranja  16.776487\n",
              "2     Naranja  16.943656\n",
              "3     Naranja  15.854063\n",
              "4     Naranja  19.730815\n",
              "..        ...        ...\n",
              "95  Mandarina  15.232020\n",
              "96  Mandarina  13.968439\n",
              "97  Mandarina  15.130791\n",
              "98  Mandarina  13.139997\n",
              "99  Mandarina  17.094096\n",
              "\n",
              "[100 rows x 2 columns]"
            ]
          },
          "metadata": {
            "tags": []
          },
          "execution_count": 20
        }
      ]
    },
    {
      "cell_type": "markdown",
      "metadata": {
        "id": "YXjT_ec1nnDp"
      },
      "source": [
        "Seteamos limites de tamaños de naranjas para predecir:"
      ]
    },
    {
      "cell_type": "code",
      "metadata": {
        "id": "dyqiqnazWPb5"
      },
      "source": [
        "dist = nstd\n",
        "lbound = nmean-dist"
      ],
      "execution_count": 21,
      "outputs": []
    },
    {
      "cell_type": "markdown",
      "metadata": {
        "id": "zZrLWtj3oRi_"
      },
      "source": [
        "Configuramos el filtro para naranjas, vamos a analizar 3 posibles casos al rededor del optimo:"
      ]
    },
    {
      "cell_type": "code",
      "metadata": {
        "id": "pGh_4rmlodjv"
      },
      "source": [
        "def predictions(low_bound):\n",
        "  a = pd.Series([0 if x < low_bound else 1 for x in df['Values']])\n",
        "  return a\n",
        "  \n",
        "df[\"naranja_pred_1\"] = predictions(lbound)\n",
        "df[\"naranja_pred_2\"] = predictions(lbound+1)\n",
        "df[\"naranja_pred_3\"] = predictions(lbound-1)"
      ],
      "execution_count": 22,
      "outputs": []
    },
    {
      "cell_type": "markdown",
      "metadata": {
        "id": "mgaXvfZLBvGo"
      },
      "source": [
        "Trazamos las 3 curvas ROC:"
      ]
    },
    {
      "cell_type": "code",
      "metadata": {
        "id": "Ta48E0KEte6R",
        "outputId": "8e722269-82d8-4cfc-fd0e-bac82d683c0c",
        "colab": {
          "base_uri": "https://localhost:8080/",
          "height": 265
        }
      },
      "source": [
        "from sklearn.metrics import roc_curve, roc_auc_score\n",
        "\n",
        "predictions_1 =  df['naranja_pred_1'].values\n",
        "predictions_2 =  df['naranja_pred_2'].values\n",
        "predictions_3 =  df['naranja_pred_3'].values\n",
        "label = [1 if x == 'Naranja' else 0 for x in df['Tag']]\n",
        "fpr1, tpr1, thresholds1 = roc_curve(label, predictions_1)\n",
        "fpr2, tpr2, thresholds2 = roc_curve(label, predictions_2)\n",
        "fpr3, tpr3, thresholds3 = roc_curve(label, predictions_3)\n",
        "plt.plot(fpr1, tpr1, \"ro--\",fpr2, tpr2, \"go--\",fpr3, tpr3, \"bo--\")\n",
        "plt.show()"
      ],
      "execution_count": 23,
      "outputs": [
        {
          "output_type": "display_data",
          "data": {
            "image/png": "[encoded data removed]",
            "text/plain": [
              "<Figure size 432x288 with 1 Axes>"
            ]
          },
          "metadata": {
            "tags": [],
            "needs_background": "light"
          }
        }
      ]
    },
    {
      "cell_type": "markdown",
      "metadata": {
        "id": "6WAq2SDdERMp"
      },
      "source": [
        "Mostramos el F-measure de nuestras predicciones:"
      ]
    },
    {
      "cell_type": "code",
      "metadata": {
        "id": "gKF3RO6GWXDZ",
        "outputId": "fb097b42-9cbe-474e-cb9e-31310815e111",
        "colab": {
          "base_uri": "https://localhost:8080/"
        }
      },
      "source": [
        "from sklearn import metrics\n",
        "print(\"F-measure SVM =\",metrics.f1_score(label, predictions_1))\n",
        "print(\"F-measure SVM =\",metrics.f1_score(label, predictions_2))\n",
        "print(\"F-measure SVM =\",metrics.f1_score(label, predictions_3))"
      ],
      "execution_count": 24,
      "outputs": [
        {
          "output_type": "stream",
          "text": [
            "F-measure SVM = 0.7787610619469026\n",
            "F-measure SVM = 0.6595744680851063\n",
            "F-measure SVM = 0.7441860465116279\n"
          ],
          "name": "stdout"
        }
      ]
    }
  ]
}