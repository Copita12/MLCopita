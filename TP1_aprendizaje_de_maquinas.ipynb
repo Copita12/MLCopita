{
  "nbformat": 4,
  "nbformat_minor": 0,
  "metadata": {
    "colab": {
      "name": "TP1 aprendizaje de maquinas",
      "provenance": [],
      "authorship_tag": "ABX9TyNnQBdZDdA6O//rTOP+owyM",
      "include_colab_link": true
    },
    "kernelspec": {
      "name": "python3",
      "display_name": "Python 3"
    }
  },
  "cells": [
    {
      "cell_type": "markdown",
      "metadata": {
        "id": "view-in-github",
        "colab_type": "text"
      },
      "source": [
        "<a href=\"https://colab.research.google.com/github/Copita12/MLCopita/blob/master/TP1_aprendizaje_de_maquinas.ipynb\" target=\"_parent\"><img src=\"https://colab.research.google.com/assets/colab-badge.svg\" alt=\"Open In Colab\"/></a>"
      ]
    },
    {
      "cell_type": "markdown",
      "metadata": {
        "id": "7BW3yZhNDRP1"
      },
      "source": [
        "# Trabajo Practico 1\n",
        "Aprendizaje de Maquinas\n"
      ]
    },
    {
      "cell_type": "markdown",
      "metadata": {
        "id": "C9wIf2riJBDm"
      },
      "source": [
        "Cargo los datos a mano en un dataframe de pandas"
      ]
    },
    {
      "cell_type": "code",
      "metadata": {
        "id": "YZS2P6aNBAOj"
      },
      "source": [
        "import pandas as pd\n",
        "\n",
        "x = pd.Series([10,8,13,9,11,14,6,4,12,7,5])\n",
        "y = pd.Series([8.04,6.95,7.58,8.81,8.33,9.96,7.24,4.26,10.84,4.82,5.68])\n",
        "df1 = pd.DataFrame({'x':x,'y':y})\n",
        "\n",
        "x = pd.Series([10,8,13,9,11,14,6,4,12,7,5])\n",
        "y = pd.Series([9.14,8.14,8.74,8.77,9.26,8.1,6.13,3.10,9.13,7.26,4.74])\n",
        "df2 = pd.DataFrame({'x':x,'y':y})\n",
        "\n",
        "x = pd.Series([10,8,13,9,11,14,6,4,12,7,5])\n",
        "y = pd.Series([7.46,6.77,12.74,7.11,7.81,8.84,6.08,5.39,8.15,6.42,5.73])\n",
        "df3 = pd.DataFrame({'x':x,'y':y})\n",
        "\n",
        "x = pd.Series([8,8,8,8,8,8,8,19,8,8,8])\n",
        "y = pd.Series([6.58,5.76,7.71,8.84,8.47,7.04,5.25,12.5,5.56,7.91,6.89])\n",
        "df4 = pd.DataFrame({'x':x,'y':y})"
      ],
      "execution_count": 30,
      "outputs": []
    },
    {
      "cell_type": "markdown",
      "metadata": {
        "id": "YcAMlOrFGPjN"
      },
      "source": [
        "Podemos graficar los puntos en un mapa y agregarle los 4 nuevos datos a cada uno para analizar en cual dataset corresponde cada uno de los puntos"
      ]
    },
    {
      "cell_type": "markdown",
      "metadata": {
        "id": "ZFDkB-OBIfR7"
      },
      "source": [
        "## Desarrollo"
      ]
    },
    {
      "cell_type": "markdown",
      "metadata": {
        "id": "T-ygVPQbIIh9"
      },
      "source": [
        "Para el primer dataset podemos observar una dispersion el dato que podriamos encajar en el mismo por descarte podria ser el triangulo amarillo, ya que los otros datos, como se puede ver mas adelante, encajan mejor en otros conjuntos"
      ]
    },
    {
      "cell_type": "code",
      "metadata": {
        "id": "FPG333zSDoPk",
        "outputId": "e477e10c-75bc-4b31-d26c-6af0380586b4",
        "colab": {
          "base_uri": "https://localhost:8080/",
          "height": 282
        }
      },
      "source": [
        "import matplotlib.pyplot as plt\n",
        "plt.scatter(df1['x'],df1['y'])\n",
        "#Triangulo\n",
        "plt.scatter(16,8,marker='v')\n",
        "#Cuadrado\n",
        "plt.scatter(8,6,marker='s')\n",
        "#Estrella\n",
        "plt.scatter(16,10,marker='*')\n",
        "#Cruz\n",
        "plt.scatter(16,6,marker='+')"
      ],
      "execution_count": 31,
      "outputs": [
        {
          "output_type": "execute_result",
          "data": {
            "text/plain": [
              "<matplotlib.collections.PathCollection at 0x7fdee3efada0>"
            ]
          },
          "metadata": {
            "tags": []
          },
          "execution_count": 31
        },
        {
          "output_type": "display_data",
          "data": {
            "image/png": "[encoded data removed]",
            "text/plain": [
              "<Figure size 432x288 with 1 Axes>"
            ]
          },
          "metadata": {
            "tags": [],
            "needs_background": "light"
          }
        }
      ]
    },
    {
      "cell_type": "markdown",
      "metadata": {
        "id": "tn-rK1vnG2uh"
      },
      "source": [
        "Para el dataset numero 2 podemos observar claramente como la cruz es el unico dato que puede encajar, el resto de los datos rompen con el patron de esta curva"
      ]
    },
    {
      "cell_type": "code",
      "metadata": {
        "id": "uMrLPAmyGSj8",
        "outputId": "c8f630f5-4d56-4cbb-c32f-4e87dca68231",
        "colab": {
          "base_uri": "https://localhost:8080/",
          "height": 282
        }
      },
      "source": [
        "plt.scatter(df2['x'],df2['y'])\n",
        "#Triangulo\n",
        "plt.scatter(16,8,marker='v')\n",
        "#Cuadrado\n",
        "plt.scatter(8,6,marker='s')\n",
        "#Estrella\n",
        "plt.scatter(16,10,marker='*')\n",
        "#Cruz\n",
        "plt.scatter(16,6,marker='+')"
      ],
      "execution_count": 32,
      "outputs": [
        {
          "output_type": "execute_result",
          "data": {
            "text/plain": [
              "<matplotlib.collections.PathCollection at 0x7fdee438d550>"
            ]
          },
          "metadata": {
            "tags": []
          },
          "execution_count": 32
        },
        {
          "output_type": "display_data",
          "data": {
            "image/png": "[encoded data removed]",
            "text/plain": [
              "<Figure size 432x288 with 1 Axes>"
            ]
          },
          "metadata": {
            "tags": [],
            "needs_background": "light"
          }
        }
      ]
    },
    {
      "cell_type": "markdown",
      "metadata": {
        "id": "iNtQrGQaHT9Y"
      },
      "source": [
        "Para el dataset numero 3 podemos observar un dato erroneo y podemos ver que los datos forman una linea recta donde el unico dato que podria encajar es que aparece graficado como estrella"
      ]
    },
    {
      "cell_type": "code",
      "metadata": {
        "id": "Lf1Y6HRMGXO8",
        "outputId": "567c0829-9fc0-4a6d-8ce0-d4db1ed12c0d",
        "colab": {
          "base_uri": "https://localhost:8080/",
          "height": 283
        }
      },
      "source": [
        "plt.scatter(df3['x'],df3['y'])\n",
        "#Triangulo\n",
        "plt.scatter(16,8,marker='v')\n",
        "#Cuadrado\n",
        "plt.scatter(8,6,marker='s')\n",
        "#Estrella\n",
        "plt.scatter(16,10,marker='*')\n",
        "#Cruz\n",
        "plt.scatter(16,6,marker='+')"
      ],
      "execution_count": 33,
      "outputs": [
        {
          "output_type": "execute_result",
          "data": {
            "text/plain": [
              "<matplotlib.collections.PathCollection at 0x7fdee40daa58>"
            ]
          },
          "metadata": {
            "tags": []
          },
          "execution_count": 33
        },
        {
          "output_type": "display_data",
          "data": {
            "image/png": "[encoded data removed]",
            "text/plain": [
              "<Figure size 432x288 with 1 Axes>"
            ]
          },
          "metadata": {
            "tags": [],
            "needs_background": "light"
          }
        }
      ]
    },
    {
      "cell_type": "markdown",
      "metadata": {
        "id": "2xFxEJVEHqR5"
      },
      "source": [
        "En este cuarto y ultimo dataset podemos observar un atipico y el resto de los valores valen 8 para la columna 'x', por lo tanto el unico dato que encaja perfecto es el cuadrado verde"
      ]
    },
    {
      "cell_type": "code",
      "metadata": {
        "id": "8rK9iUguGbUS",
        "outputId": "dc8f0d4d-2af7-405c-a66d-bae23961d662",
        "colab": {
          "base_uri": "https://localhost:8080/",
          "height": 282
        }
      },
      "source": [
        "plt.scatter(df4['x'],df4['y'])\n",
        "#Triangulo\n",
        "plt.scatter(16,8,marker='v')\n",
        "#Cuadrado\n",
        "plt.scatter(8,6,marker='s')\n",
        "#Estrella\n",
        "plt.scatter(16,10,marker='*')\n",
        "#Cruz\n",
        "plt.scatter(16,6,marker='+')"
      ],
      "execution_count": 35,
      "outputs": [
        {
          "output_type": "execute_result",
          "data": {
            "text/plain": [
              "<matplotlib.collections.PathCollection at 0x7fdee4331c18>"
            ]
          },
          "metadata": {
            "tags": []
          },
          "execution_count": 35
        },
        {
          "output_type": "display_data",
          "data": {
            "image/png": "[encoded data removed]",
            "text/plain": [
              "<Figure size 432x288 with 1 Axes>"
            ]
          },
          "metadata": {
            "tags": [],
            "needs_background": "light"
          }
        }
      ]
    },
    {
      "cell_type": "markdown",
      "metadata": {
        "id": "bVyaXv5IJXnY"
      },
      "source": [
        "Como conclusion podriamos orientar la insercion de nuevos datos a nuestros datasets simplemente mirando la distribucion de los mismos y analizando las distintas posibilidades."
      ]
    }
  ]
}